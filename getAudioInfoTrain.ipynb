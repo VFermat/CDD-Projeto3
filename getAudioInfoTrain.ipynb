{
 "cells": [
  {
   "cell_type": "code",
   "execution_count": 3,
   "metadata": {},
   "outputs": [
    {
     "name": "stdout",
     "output_type": "stream",
     "text": [
      "Populating the interactive namespace from numpy and matplotlib\n"
     ]
    }
   ],
   "source": [
    "% pylab inline\n",
    "import pandas as pd\n",
    "import numpy as np\n",
    "import matplotlib.pyplot as plt\n",
    "import librosa\n",
    "import librosa.display\n",
    "from scipy.io.wavfile import read as sciread\n",
    "from scipy import stats"
   ]
  },
  {
   "cell_type": "code",
   "execution_count": 4,
   "metadata": {},
   "outputs": [],
   "source": [
    "def calcFFT(audio, fs):\n",
    "    transformed = np.fft.fft(audio)\n",
    "    f = np.arange(0, len(transformed))*fs/len(transformed)\n",
    "    f = f[:44100]\n",
    "    transformed = transformed[:44100]\n",
    "    return (f, transformed)"
   ]
  },
  {
   "cell_type": "code",
   "execution_count": 5,
   "metadata": {},
   "outputs": [],
   "source": [
    "def plotFFT(audio, fs):\n",
    "    f, transformed = calcFFT(audio, fs)\n",
    "    plt.plot(f, np.abs(transformed))\n",
    "    plt.xlabel('Frequency (Hz)')\n",
    "    plt.ylabel('Magnitude (dB)')\n",
    "    plt.show()"
   ]
  },
  {
   "cell_type": "code",
   "execution_count": 6,
   "metadata": {},
   "outputs": [],
   "source": [
    "def get_info(fpath, label):\n",
    "    signal = librosa.core.load(fpath, 44100)[0]\n",
    "    f, transformed = calcFFT(signal, 44100)\n",
    "    transformed = np.array(np.abs(transformed))\n",
    "    data = {}\n",
    "    data['fpath'] = fpath\n",
    "    data['label'] = label\n",
    "    data['median'] = np.median(transformed)\n",
    "    data['mean'] = np.mean(transformed)\n",
    "    data['1Q'] = np.percentile(transformed, 25)\n",
    "    data['2Q'] = np.percentile(transformed, 75)\n",
    "    data['IQR'] = stats.iqr(transformed)\n",
    "    data['min'] = np.min(transformed)\n",
    "    data['max'] = np.max(transformed)\n",
    "    data['std'] = np.std(transformed)\n",
    "    data['skew'] = stats.skew(transformed, bias=True)\n",
    "    return data"
   ]
  },
  {
   "cell_type": "code",
   "execution_count": 7,
   "metadata": {},
   "outputs": [],
   "source": [
    "train = pd.read_csv('train.csv')\n",
    "train.head(10)\n",
    "labels = list(train.label.unique())"
   ]
  },
  {
   "cell_type": "code",
   "execution_count": 8,
   "metadata": {},
   "outputs": [],
   "source": [
    "files = []\n",
    "for i in range(len(train)):\n",
    "    file = train.loc[i].fname\n",
    "    files.append(f'audio_train/audio_train/{file}')"
   ]
  },
  {
   "cell_type": "code",
   "execution_count": 9,
   "metadata": {},
   "outputs": [],
   "source": [
    "train['fpath'] = files"
   ]
  },
  {
   "cell_type": "code",
   "execution_count": 10,
   "metadata": {},
   "outputs": [
    {
     "data": {
      "text/html": [
       "<div>\n",
       "<style scoped>\n",
       "    .dataframe tbody tr th:only-of-type {\n",
       "        vertical-align: middle;\n",
       "    }\n",
       "\n",
       "    .dataframe tbody tr th {\n",
       "        vertical-align: top;\n",
       "    }\n",
       "\n",
       "    .dataframe thead th {\n",
       "        text-align: right;\n",
       "    }\n",
       "</style>\n",
       "<table border=\"1\" class=\"dataframe\">\n",
       "  <thead>\n",
       "    <tr style=\"text-align: right;\">\n",
       "      <th></th>\n",
       "      <th>fname</th>\n",
       "      <th>label</th>\n",
       "      <th>manually_verified</th>\n",
       "      <th>fpath</th>\n",
       "    </tr>\n",
       "  </thead>\n",
       "  <tbody>\n",
       "    <tr>\n",
       "      <th>0</th>\n",
       "      <td>00044347.wav</td>\n",
       "      <td>Hi-hat</td>\n",
       "      <td>0</td>\n",
       "      <td>audio_train/audio_train/00044347.wav</td>\n",
       "    </tr>\n",
       "    <tr>\n",
       "      <th>1</th>\n",
       "      <td>001ca53d.wav</td>\n",
       "      <td>Saxophone</td>\n",
       "      <td>1</td>\n",
       "      <td>audio_train/audio_train/001ca53d.wav</td>\n",
       "    </tr>\n",
       "    <tr>\n",
       "      <th>2</th>\n",
       "      <td>002d256b.wav</td>\n",
       "      <td>Trumpet</td>\n",
       "      <td>0</td>\n",
       "      <td>audio_train/audio_train/002d256b.wav</td>\n",
       "    </tr>\n",
       "    <tr>\n",
       "      <th>3</th>\n",
       "      <td>0033e230.wav</td>\n",
       "      <td>Glockenspiel</td>\n",
       "      <td>1</td>\n",
       "      <td>audio_train/audio_train/0033e230.wav</td>\n",
       "    </tr>\n",
       "    <tr>\n",
       "      <th>4</th>\n",
       "      <td>00353774.wav</td>\n",
       "      <td>Cello</td>\n",
       "      <td>1</td>\n",
       "      <td>audio_train/audio_train/00353774.wav</td>\n",
       "    </tr>\n",
       "  </tbody>\n",
       "</table>\n",
       "</div>"
      ],
      "text/plain": [
       "          fname         label  manually_verified  \\\n",
       "0  00044347.wav        Hi-hat                  0   \n",
       "1  001ca53d.wav     Saxophone                  1   \n",
       "2  002d256b.wav       Trumpet                  0   \n",
       "3  0033e230.wav  Glockenspiel                  1   \n",
       "4  00353774.wav         Cello                  1   \n",
       "\n",
       "                                  fpath  \n",
       "0  audio_train/audio_train/00044347.wav  \n",
       "1  audio_train/audio_train/001ca53d.wav  \n",
       "2  audio_train/audio_train/002d256b.wav  \n",
       "3  audio_train/audio_train/0033e230.wav  \n",
       "4  audio_train/audio_train/00353774.wav  "
      ]
     },
     "execution_count": 10,
     "metadata": {},
     "output_type": "execute_result"
    }
   ],
   "source": [
    "train.head()"
   ]
  },
  {
   "cell_type": "code",
   "execution_count": 21,
   "metadata": {},
   "outputs": [],
   "source": [
    "train.to_csv(path_or_buf='train.csv')"
   ]
  },
  {
   "cell_type": "code",
   "execution_count": 11,
   "metadata": {},
   "outputs": [],
   "source": [
    "working = pd.DataFrame()"
   ]
  },
  {
   "cell_type": "code",
   "execution_count": 32,
   "metadata": {},
   "outputs": [],
   "source": [
    "for i in range(5000, len(train.fname)):\n",
    "    fpath = train.loc[i, 'fpath']\n",
    "    label = train.loc[i, 'label']\n",
    "    info = get_info(fpath, label)\n",
    "    df = pd.DataFrame(info, index=[i])\n",
    "    working = pd.concat([working, df])"
   ]
  },
  {
   "cell_type": "code",
   "execution_count": 33,
   "metadata": {},
   "outputs": [],
   "source": [
    "working.to_csv(path_or_buf='working.csv')"
   ]
  }
 ],
 "metadata": {
  "kernelspec": {
   "display_name": "Python 3",
   "language": "python",
   "name": "python3"
  },
  "language_info": {
   "codemirror_mode": {
    "name": "ipython",
    "version": 3
   },
   "file_extension": ".py",
   "mimetype": "text/x-python",
   "name": "python",
   "nbconvert_exporter": "python",
   "pygments_lexer": "ipython3",
   "version": "3.6.4"
  }
 },
 "nbformat": 4,
 "nbformat_minor": 2
}
