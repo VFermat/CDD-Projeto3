{
 "cells": [
  {
   "cell_type": "code",
   "execution_count": 2,
   "metadata": {},
   "outputs": [
    {
     "name": "stdout",
     "output_type": "stream",
     "text": [
      "Populating the interactive namespace from numpy and matplotlib\n"
     ]
    }
   ],
   "source": [
    "% pylab inline\n",
    "import pandas as pd\n",
    "import numpy as np\n",
    "import matplotlib.pyplot as plt\n",
    "import librosa\n",
    "import librosa.display\n",
    "from scipy.io.wavfile import read as sciread\n",
    "from scipy import stats"
   ]
  },
  {
   "cell_type": "code",
   "execution_count": 3,
   "metadata": {},
   "outputs": [],
   "source": [
    "def calcFFT(audio, fs):\n",
    "    transformed = np.fft.fft(audio)\n",
    "    f = np.arange(0, len(transformed))*fs/len(transformed)\n",
    "    f = f[:44100]\n",
    "    transformed = transformed[:44100]\n",
    "    return (f, transformed)"
   ]
  },
  {
   "cell_type": "code",
   "execution_count": 4,
   "metadata": {},
   "outputs": [],
   "source": [
    "def plotFFT(audio, fs):\n",
    "    f, transformed = calcFFT(audio, fs)\n",
    "    plt.plot(f, np.abs(transformed))\n",
    "    plt.xlabel('Frequency (Hz)')\n",
    "    plt.ylabel('Magnitude (dB)')\n",
    "    plt.show()"
   ]
  },
  {
   "cell_type": "code",
   "execution_count": 38,
   "metadata": {},
   "outputs": [],
   "source": [
    "def get_tempo(signal, sr):\n",
    "    onset_env = librosa.onset.onset_strength(signal, sr=sr)\n",
    "    tempo = librosa.beat.tempo(onset_envelope=onset_env, sr=sr)\n",
    "    return tempo"
   ]
  },
  {
   "cell_type": "code",
   "execution_count": 5,
   "metadata": {},
   "outputs": [],
   "source": [
    "def get_harmonic(signal, sr):\n",
    "    signal = librosa.effects.harmonic(signal)\n",
    "    f, transformed = calcFFT(signal, sr)\n",
    "    transformed = np.array(np.abs(transformed))\n",
    "    data = {}\n",
    "    data['hmedian'] = np.median(transformed)\n",
    "    data['hmean'] = np.mean(transformed)\n",
    "    data['h1Q'] = np.percentile(transformed, 25)\n",
    "    data['h2Q'] = np.percentile(transformed, 75)\n",
    "    data['hIQR'] = stats.iqr(transformed)\n",
    "    data['hmin'] = np.min(transformed)\n",
    "    data['hmax'] = np.max(transformed)\n",
    "    data['hstd'] = np.std(transformed)\n",
    "    data['htempo'] = get_tempo(signal, 44100)\n",
    "    return data"
   ]
  },
  {
   "cell_type": "code",
   "execution_count": 6,
   "metadata": {},
   "outputs": [],
   "source": [
    "def get_percussion(signal, sr):\n",
    "    signal = librosa.effects.percussive(signal)\n",
    "    f, transformed = calcFFT(signal, sr)\n",
    "    transformed = np.array(np.abs(transformed))\n",
    "    data = {}\n",
    "    data['pmedian'] = np.median(transformed)\n",
    "    data['pmean'] = np.mean(transformed)\n",
    "    data['p1Q'] = np.percentile(transformed, 25)\n",
    "    data['p2Q'] = np.percentile(transformed, 75)\n",
    "    data['pIQR'] = stats.iqr(transformed)\n",
    "    data['pmin'] = np.min(transformed)\n",
    "    data['pmax'] = np.max(transformed)\n",
    "    data['pstd'] = np.std(transformed)\n",
    "    data['ptempo'] = get_tempo(signal, 44100)\n",
    "    return data"
   ]
  },
  {
   "cell_type": "code",
   "execution_count": 7,
   "metadata": {},
   "outputs": [],
   "source": [
    "def get_info(fpath, label):\n",
    "    signal = librosa.core.load(fpath, 44100)[0]\n",
    "    f, transformed = calcFFT(signal, 44100)\n",
    "    transformed = np.array(np.abs(transformed))\n",
    "    harmonic_data = get_harmonic(signal, 44100)\n",
    "    percussion_data = get_percussion(signal, 44100)\n",
    "    data = {}\n",
    "    data['fpath'] = fpath\n",
    "    data['label'] = label\n",
    "    data['median'] = np.median(transformed)\n",
    "    data['mean'] = np.mean(transformed)\n",
    "    data['1Q'] = np.percentile(transformed, 25)\n",
    "    data['2Q'] = np.percentile(transformed, 75)\n",
    "    data['IQR'] = stats.iqr(transformed)\n",
    "    data['min'] = np.min(transformed)\n",
    "    data['max'] = np.max(transformed)\n",
    "    data['std'] = np.std(transformed)\n",
    "    data['tempo'] = get_tempo(signal, 44100)\n",
    "    data = {**data, **percussion_data, **harmonic_data}\n",
    "    return data"
   ]
  },
  {
   "cell_type": "code",
   "execution_count": 23,
   "metadata": {},
   "outputs": [
    {
     "data": {
      "text/html": [
       "<div>\n",
       "<style scoped>\n",
       "    .dataframe tbody tr th:only-of-type {\n",
       "        vertical-align: middle;\n",
       "    }\n",
       "\n",
       "    .dataframe tbody tr th {\n",
       "        vertical-align: top;\n",
       "    }\n",
       "\n",
       "    .dataframe thead th {\n",
       "        text-align: right;\n",
       "    }\n",
       "</style>\n",
       "<table border=\"1\" class=\"dataframe\">\n",
       "  <thead>\n",
       "    <tr style=\"text-align: right;\">\n",
       "      <th></th>\n",
       "      <th>Unnamed: 0</th>\n",
       "      <th>Unnamed: 0.1</th>\n",
       "      <th>fname</th>\n",
       "      <th>label</th>\n",
       "      <th>fpath</th>\n",
       "    </tr>\n",
       "  </thead>\n",
       "  <tbody>\n",
       "    <tr>\n",
       "      <th>0</th>\n",
       "      <td>0</td>\n",
       "      <td>4</td>\n",
       "      <td>00326aa9.wav</td>\n",
       "      <td>Oboe</td>\n",
       "      <td>../audio_test/00326aa9.wav</td>\n",
       "    </tr>\n",
       "    <tr>\n",
       "      <th>1</th>\n",
       "      <td>1</td>\n",
       "      <td>5</td>\n",
       "      <td>0038a046.wav</td>\n",
       "      <td>Bass_drum</td>\n",
       "      <td>../audio_test/0038a046.wav</td>\n",
       "    </tr>\n",
       "    <tr>\n",
       "      <th>2</th>\n",
       "      <td>2</td>\n",
       "      <td>8</td>\n",
       "      <td>007759c4.wav</td>\n",
       "      <td>Saxophone</td>\n",
       "      <td>../audio_test/007759c4.wav</td>\n",
       "    </tr>\n",
       "    <tr>\n",
       "      <th>3</th>\n",
       "      <td>3</td>\n",
       "      <td>9</td>\n",
       "      <td>008afd93.wav</td>\n",
       "      <td>Saxophone</td>\n",
       "      <td>../audio_test/008afd93.wav</td>\n",
       "    </tr>\n",
       "    <tr>\n",
       "      <th>4</th>\n",
       "      <td>4</td>\n",
       "      <td>12</td>\n",
       "      <td>00ae03f6.wav</td>\n",
       "      <td>Chime</td>\n",
       "      <td>../audio_test/00ae03f6.wav</td>\n",
       "    </tr>\n",
       "  </tbody>\n",
       "</table>\n",
       "</div>"
      ],
      "text/plain": [
       "   Unnamed: 0  Unnamed: 0.1         fname      label  \\\n",
       "0           0             4  00326aa9.wav       Oboe   \n",
       "1           1             5  0038a046.wav  Bass_drum   \n",
       "2           2             8  007759c4.wav  Saxophone   \n",
       "3           3             9  008afd93.wav  Saxophone   \n",
       "4           4            12  00ae03f6.wav      Chime   \n",
       "\n",
       "                        fpath  \n",
       "0  ../audio_test/00326aa9.wav  \n",
       "1  ../audio_test/0038a046.wav  \n",
       "2  ../audio_test/007759c4.wav  \n",
       "3  ../audio_test/008afd93.wav  \n",
       "4  ../audio_test/00ae03f6.wav  "
      ]
     },
     "execution_count": 23,
     "metadata": {},
     "output_type": "execute_result"
    }
   ],
   "source": [
    "test = pd.read_csv('usefull_test.csv')\n",
    "test.head()"
   ]
  },
  {
   "cell_type": "code",
   "execution_count": 31,
   "metadata": {},
   "outputs": [],
   "source": [
    "working = pd.DataFrame()"
   ]
  },
  {
   "cell_type": "code",
   "execution_count": 32,
   "metadata": {},
   "outputs": [],
   "source": [
    "import time"
   ]
  },
  {
   "cell_type": "code",
   "execution_count": 33,
   "metadata": {},
   "outputs": [],
   "source": [
    "time_list = []"
   ]
  },
  {
   "cell_type": "code",
   "execution_count": 39,
   "metadata": {},
   "outputs": [
    {
     "name": "stdout",
     "output_type": "stream",
     "text": [
      "Iteration: 0\n",
      " Local Time: Wed Nov  7 01:03:26 2018. Time for the last 50 iterations: 1.45 seconds\n",
      "Average time to run 50 iterations: 1.45 seconds\n",
      "Iteration: 50\n",
      " Local Time: Wed Nov  7 01:05:41 2018. Time for the last 50 iterations: 135.02 seconds\n",
      "Average time to run 50 iterations: 68.24 seconds\n",
      "Iteration: 100\n",
      " Local Time: Wed Nov  7 01:07:46 2018. Time for the last 50 iterations: 124.76 seconds\n",
      "Average time to run 50 iterations: 87.08 seconds\n",
      "Iteration: 150\n",
      " Local Time: Wed Nov  7 01:10:26 2018. Time for the last 50 iterations: 159.61 seconds\n",
      "Average time to run 50 iterations: 105.21 seconds\n",
      "Iteration: 200\n",
      " Local Time: Wed Nov  7 01:13:18 2018. Time for the last 50 iterations: 172.11 seconds\n",
      "Average time to run 50 iterations: 118.59 seconds\n",
      "Iteration: 250\n",
      " Local Time: Wed Nov  7 01:15:51 2018. Time for the last 50 iterations: 153.46 seconds\n",
      "Average time to run 50 iterations: 124.4 seconds\n",
      "Iteration: 300\n",
      " Local Time: Wed Nov  7 01:18:06 2018. Time for the last 50 iterations: 134.66 seconds\n",
      "Average time to run 50 iterations: 125.87 seconds\n",
      "Iteration: 350\n",
      " Local Time: Wed Nov  7 01:20:29 2018. Time for the last 50 iterations: 142.98 seconds\n",
      "Average time to run 50 iterations: 128.01 seconds\n",
      "Iteration: 400\n",
      " Local Time: Wed Nov  7 01:22:18 2018. Time for the last 50 iterations: 108.64 seconds\n",
      "Average time to run 50 iterations: 125.85 seconds\n",
      "Iteration: 450\n",
      " Local Time: Wed Nov  7 01:24:37 2018. Time for the last 50 iterations: 139.06 seconds\n",
      "Average time to run 50 iterations: 127.18 seconds\n",
      "Iteration: 500\n",
      " Local Time: Wed Nov  7 01:27:05 2018. Time for the last 50 iterations: 148.46 seconds\n",
      "Average time to run 50 iterations: 129.11 seconds\n",
      "Iteration: 550\n",
      " Local Time: Wed Nov  7 01:29:51 2018. Time for the last 50 iterations: 165.75 seconds\n",
      "Average time to run 50 iterations: 132.16 seconds\n",
      "Iteration: 600\n",
      " Local Time: Wed Nov  7 01:32:31 2018. Time for the last 50 iterations: 160.38 seconds\n",
      "Average time to run 50 iterations: 134.33 seconds\n",
      "Iteration: 650\n",
      " Local Time: Wed Nov  7 01:34:53 2018. Time for the last 50 iterations: 141.25 seconds\n",
      "Average time to run 50 iterations: 134.83 seconds\n",
      "Iteration: 700\n",
      " Local Time: Wed Nov  7 01:37:02 2018. Time for the last 50 iterations: 129.49 seconds\n",
      "Average time to run 50 iterations: 134.47 seconds\n",
      "Iteration: 750\n",
      " Local Time: Wed Nov  7 01:39:37 2018. Time for the last 50 iterations: 155.16 seconds\n",
      "Average time to run 50 iterations: 135.77 seconds\n",
      "Iteration: 800\n",
      " Local Time: Wed Nov  7 01:41:31 2018. Time for the last 50 iterations: 114.13 seconds\n",
      "Average time to run 50 iterations: 134.49 seconds\n",
      "Iteration: 850\n",
      " Local Time: Wed Nov  7 01:43:50 2018. Time for the last 50 iterations: 138.81 seconds\n",
      "Average time to run 50 iterations: 134.73 seconds\n",
      "Iteration: 900\n",
      " Local Time: Wed Nov  7 01:45:46 2018. Time for the last 50 iterations: 116.02 seconds\n",
      "Average time to run 50 iterations: 133.75 seconds\n",
      "Iteration: 950\n",
      " Local Time: Wed Nov  7 01:47:57 2018. Time for the last 50 iterations: 130.41 seconds\n",
      "Average time to run 50 iterations: 133.58 seconds\n",
      "Iteration: 1000\n",
      " Local Time: Wed Nov  7 01:49:30 2018. Time for the last 50 iterations: 93.89 seconds\n",
      "Average time to run 50 iterations: 131.69 seconds\n",
      "Iteration: 1050\n",
      " Local Time: Wed Nov  7 01:51:21 2018. Time for the last 50 iterations: 110.55 seconds\n",
      "Average time to run 50 iterations: 130.73 seconds\n",
      "Iteration: 1100\n",
      " Local Time: Wed Nov  7 01:53:46 2018. Time for the last 50 iterations: 145.0 seconds\n",
      "Average time to run 50 iterations: 131.35 seconds\n",
      "Iteration: 1150\n",
      " Local Time: Wed Nov  7 01:55:53 2018. Time for the last 50 iterations: 126.94 seconds\n",
      "Average time to run 50 iterations: 131.17 seconds\n",
      "Iteration: 1200\n",
      " Local Time: Wed Nov  7 01:58:45 2018. Time for the last 50 iterations: 172.3 seconds\n",
      "Average time to run 50 iterations: 132.81 seconds\n",
      "Iteration: 1250\n",
      " Local Time: Wed Nov  7 02:00:21 2018. Time for the last 50 iterations: 95.27 seconds\n",
      "Average time to run 50 iterations: 131.37 seconds\n",
      "Iteration: 1300\n",
      " Local Time: Wed Nov  7 02:02:28 2018. Time for the last 50 iterations: 127.25 seconds\n",
      "Average time to run 50 iterations: 131.22 seconds\n",
      "Iteration: 1350\n",
      " Local Time: Wed Nov  7 02:04:47 2018. Time for the last 50 iterations: 138.93 seconds\n",
      "Average time to run 50 iterations: 131.49 seconds\n",
      "Iteration: 1400\n",
      " Local Time: Wed Nov  7 02:07:39 2018. Time for the last 50 iterations: 172.68 seconds\n",
      "Average time to run 50 iterations: 132.91 seconds\n",
      "Iteration: 1450\n",
      " Local Time: Wed Nov  7 02:09:55 2018. Time for the last 50 iterations: 135.75 seconds\n",
      "Average time to run 50 iterations: 133.01 seconds\n",
      "Iteration: 1500\n",
      " Local Time: Wed Nov  7 02:12:38 2018. Time for the last 50 iterations: 163.26 seconds\n",
      "Average time to run 50 iterations: 133.98 seconds\n",
      "Iteration: 1550\n",
      " Local Time: Wed Nov  7 02:14:36 2018. Time for the last 50 iterations: 117.27 seconds\n",
      "Average time to run 50 iterations: 133.46 seconds\n"
     ]
    }
   ],
   "source": [
    "initial_time = time.time()\n",
    "for i in test.index:\n",
    "    fpath = test.loc[i, 'fpath']\n",
    "    label = test.loc[i, 'label']\n",
    "    info = get_info(fpath, label)\n",
    "    df = pd.DataFrame(info, index=[i])\n",
    "    working = pd.concat([working, df])\n",
    "    if i % 50 == 0:\n",
    "        new_time = time.time()\n",
    "        time_difference = round(new_time - initial_time, 2)\n",
    "        time_list.append(time_difference)\n",
    "        print('Iteration: {}\\n Local Time: {}. Time for the last 50 iterations: {} seconds'.format(i, time.asctime(time.localtime(new_time)), time_difference))\n",
    "        print('Average time to run 50 iterations: {} seconds'.format(round(np.mean(time_list), 2)))\n",
    "        initial_time = new_time"
   ]
  },
  {
   "cell_type": "code",
   "execution_count": 41,
   "metadata": {},
   "outputs": [],
   "source": [
    "working.to_csv(path_or_buf='test_info.csv')"
   ]
  }
 ],
 "metadata": {
  "kernelspec": {
   "display_name": "Python 3",
   "language": "python",
   "name": "python3"
  },
  "language_info": {
   "codemirror_mode": {
    "name": "ipython",
    "version": 3
   },
   "file_extension": ".py",
   "mimetype": "text/x-python",
   "name": "python",
   "nbconvert_exporter": "python",
   "pygments_lexer": "ipython3",
   "version": "3.6.4"
  }
 },
 "nbformat": 4,
 "nbformat_minor": 2
}
