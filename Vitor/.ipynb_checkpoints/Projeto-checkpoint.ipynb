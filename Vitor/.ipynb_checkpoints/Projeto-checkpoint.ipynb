{
 "cells": [
  {
   "cell_type": "code",
   "execution_count": 1,
   "metadata": {},
   "outputs": [],
   "source": [
    "import pandas as pd\n",
    "import numpy as np\n",
    "import matplotlib.pyplot as plt\n",
    "import seaborn as sns\n",
    "\n",
    "RANDOM_SEED = 42"
   ]
  },
  {
   "cell_type": "code",
   "execution_count": 2,
   "metadata": {},
   "outputs": [],
   "source": [
    "train = pd.read_csv('train.csv')\n",
    "train_info = pd.read_csv('working.csv')"
   ]
  },
  {
   "cell_type": "code",
   "execution_count": 3,
   "metadata": {},
   "outputs": [],
   "source": [
    "test = pd.read_csv('usefull_test.csv')\n",
    "test_info = pd.read_csv('test_info.csv')"
   ]
  },
  {
   "cell_type": "code",
   "execution_count": 4,
   "metadata": {
    "scrolled": true
   },
   "outputs": [
    {
     "data": {
      "text/html": [
       "<div>\n",
       "<style scoped>\n",
       "    .dataframe tbody tr th:only-of-type {\n",
       "        vertical-align: middle;\n",
       "    }\n",
       "\n",
       "    .dataframe tbody tr th {\n",
       "        vertical-align: top;\n",
       "    }\n",
       "\n",
       "    .dataframe thead th {\n",
       "        text-align: right;\n",
       "    }\n",
       "</style>\n",
       "<table border=\"1\" class=\"dataframe\">\n",
       "  <thead>\n",
       "    <tr style=\"text-align: right;\">\n",
       "      <th></th>\n",
       "      <th>Unnamed: 0</th>\n",
       "      <th>1Q</th>\n",
       "      <th>2Q</th>\n",
       "      <th>IQR</th>\n",
       "      <th>Unnamed: 0.1</th>\n",
       "      <th>fpath</th>\n",
       "      <th>h1Q</th>\n",
       "      <th>h2Q</th>\n",
       "      <th>hIQR</th>\n",
       "      <th>hmax</th>\n",
       "      <th>...</th>\n",
       "      <th>p2Q</th>\n",
       "      <th>pIQR</th>\n",
       "      <th>pmax</th>\n",
       "      <th>pmean</th>\n",
       "      <th>pmedian</th>\n",
       "      <th>pmin</th>\n",
       "      <th>pstd</th>\n",
       "      <th>ptempo</th>\n",
       "      <th>std</th>\n",
       "      <th>tempo</th>\n",
       "    </tr>\n",
       "  </thead>\n",
       "  <tbody>\n",
       "    <tr>\n",
       "      <th>0</th>\n",
       "      <td>0</td>\n",
       "      <td>6.230491</td>\n",
       "      <td>27.272478</td>\n",
       "      <td>21.041986</td>\n",
       "      <td>0.0</td>\n",
       "      <td>audio_train/audio_train/00044347.wav</td>\n",
       "      <td>1.821884</td>\n",
       "      <td>16.757354</td>\n",
       "      <td>14.935470</td>\n",
       "      <td>494.158194</td>\n",
       "      <td>...</td>\n",
       "      <td>10.835077</td>\n",
       "      <td>7.138589</td>\n",
       "      <td>141.885020</td>\n",
       "      <td>8.332571</td>\n",
       "      <td>6.609736</td>\n",
       "      <td>0.009260</td>\n",
       "      <td>7.121350</td>\n",
       "      <td>120.185320</td>\n",
       "      <td>34.076773</td>\n",
       "      <td>120.185320</td>\n",
       "    </tr>\n",
       "    <tr>\n",
       "      <th>1</th>\n",
       "      <td>1</td>\n",
       "      <td>5.674157</td>\n",
       "      <td>35.867089</td>\n",
       "      <td>30.192933</td>\n",
       "      <td>1.0</td>\n",
       "      <td>audio_train/audio_train/001ca53d.wav</td>\n",
       "      <td>3.443734</td>\n",
       "      <td>32.837873</td>\n",
       "      <td>29.394139</td>\n",
       "      <td>3168.806360</td>\n",
       "      <td>...</td>\n",
       "      <td>7.231589</td>\n",
       "      <td>5.058523</td>\n",
       "      <td>29.293637</td>\n",
       "      <td>5.162963</td>\n",
       "      <td>4.335608</td>\n",
       "      <td>0.002830</td>\n",
       "      <td>3.867669</td>\n",
       "      <td>97.508844</td>\n",
       "      <td>141.165615</td>\n",
       "      <td>97.508844</td>\n",
       "    </tr>\n",
       "    <tr>\n",
       "      <th>2</th>\n",
       "      <td>2</td>\n",
       "      <td>0.012762</td>\n",
       "      <td>0.066496</td>\n",
       "      <td>0.053734</td>\n",
       "      <td>2.0</td>\n",
       "      <td>audio_train/audio_train/002d256b.wav</td>\n",
       "      <td>0.002055</td>\n",
       "      <td>0.006511</td>\n",
       "      <td>0.004455</td>\n",
       "      <td>3.861467</td>\n",
       "      <td>...</td>\n",
       "      <td>0.063026</td>\n",
       "      <td>0.051539</td>\n",
       "      <td>3.758787</td>\n",
       "      <td>0.076217</td>\n",
       "      <td>0.027698</td>\n",
       "      <td>0.000198</td>\n",
       "      <td>0.183175</td>\n",
       "      <td>135.999178</td>\n",
       "      <td>0.264248</td>\n",
       "      <td>135.999178</td>\n",
       "    </tr>\n",
       "    <tr>\n",
       "      <th>3</th>\n",
       "      <td>3</td>\n",
       "      <td>0.420803</td>\n",
       "      <td>0.977241</td>\n",
       "      <td>0.556438</td>\n",
       "      <td>3.0</td>\n",
       "      <td>audio_train/audio_train/0033e230.wav</td>\n",
       "      <td>0.096151</td>\n",
       "      <td>0.205320</td>\n",
       "      <td>0.109168</td>\n",
       "      <td>787.918924</td>\n",
       "      <td>...</td>\n",
       "      <td>0.930007</td>\n",
       "      <td>0.431827</td>\n",
       "      <td>7.764286</td>\n",
       "      <td>0.772548</td>\n",
       "      <td>0.712938</td>\n",
       "      <td>0.000439</td>\n",
       "      <td>0.704018</td>\n",
       "      <td>139.674831</td>\n",
       "      <td>7.775617</td>\n",
       "      <td>135.999178</td>\n",
       "    </tr>\n",
       "    <tr>\n",
       "      <th>4</th>\n",
       "      <td>4</td>\n",
       "      <td>0.646084</td>\n",
       "      <td>3.692972</td>\n",
       "      <td>3.046888</td>\n",
       "      <td>4.0</td>\n",
       "      <td>audio_train/audio_train/00353774.wav</td>\n",
       "      <td>0.254311</td>\n",
       "      <td>1.683002</td>\n",
       "      <td>1.428691</td>\n",
       "      <td>5412.206944</td>\n",
       "      <td>...</td>\n",
       "      <td>1.716842</td>\n",
       "      <td>1.365045</td>\n",
       "      <td>80.081093</td>\n",
       "      <td>1.535181</td>\n",
       "      <td>0.685752</td>\n",
       "      <td>0.001026</td>\n",
       "      <td>2.317918</td>\n",
       "      <td>117.453835</td>\n",
       "      <td>61.102422</td>\n",
       "      <td>117.453835</td>\n",
       "    </tr>\n",
       "  </tbody>\n",
       "</table>\n",
       "<p>5 rows × 31 columns</p>\n",
       "</div>"
      ],
      "text/plain": [
       "   Unnamed: 0        1Q         2Q        IQR  Unnamed: 0.1  \\\n",
       "0           0  6.230491  27.272478  21.041986           0.0   \n",
       "1           1  5.674157  35.867089  30.192933           1.0   \n",
       "2           2  0.012762   0.066496   0.053734           2.0   \n",
       "3           3  0.420803   0.977241   0.556438           3.0   \n",
       "4           4  0.646084   3.692972   3.046888           4.0   \n",
       "\n",
       "                                  fpath       h1Q        h2Q       hIQR  \\\n",
       "0  audio_train/audio_train/00044347.wav  1.821884  16.757354  14.935470   \n",
       "1  audio_train/audio_train/001ca53d.wav  3.443734  32.837873  29.394139   \n",
       "2  audio_train/audio_train/002d256b.wav  0.002055   0.006511   0.004455   \n",
       "3  audio_train/audio_train/0033e230.wav  0.096151   0.205320   0.109168   \n",
       "4  audio_train/audio_train/00353774.wav  0.254311   1.683002   1.428691   \n",
       "\n",
       "          hmax     ...            p2Q      pIQR        pmax     pmean  \\\n",
       "0   494.158194     ...      10.835077  7.138589  141.885020  8.332571   \n",
       "1  3168.806360     ...       7.231589  5.058523   29.293637  5.162963   \n",
       "2     3.861467     ...       0.063026  0.051539    3.758787  0.076217   \n",
       "3   787.918924     ...       0.930007  0.431827    7.764286  0.772548   \n",
       "4  5412.206944     ...       1.716842  1.365045   80.081093  1.535181   \n",
       "\n",
       "    pmedian      pmin      pstd      ptempo         std       tempo  \n",
       "0  6.609736  0.009260  7.121350  120.185320   34.076773  120.185320  \n",
       "1  4.335608  0.002830  3.867669   97.508844  141.165615   97.508844  \n",
       "2  0.027698  0.000198  0.183175  135.999178    0.264248  135.999178  \n",
       "3  0.712938  0.000439  0.704018  139.674831    7.775617  135.999178  \n",
       "4  0.685752  0.001026  2.317918  117.453835   61.102422  117.453835  \n",
       "\n",
       "[5 rows x 31 columns]"
      ]
     },
     "execution_count": 4,
     "metadata": {},
     "output_type": "execute_result"
    }
   ],
   "source": [
    "train_info.head()"
   ]
  },
  {
   "cell_type": "code",
   "execution_count": 5,
   "metadata": {},
   "outputs": [
    {
     "data": {
      "text/html": [
       "<div>\n",
       "<style scoped>\n",
       "    .dataframe tbody tr th:only-of-type {\n",
       "        vertical-align: middle;\n",
       "    }\n",
       "\n",
       "    .dataframe tbody tr th {\n",
       "        vertical-align: top;\n",
       "    }\n",
       "\n",
       "    .dataframe thead th {\n",
       "        text-align: right;\n",
       "    }\n",
       "</style>\n",
       "<table border=\"1\" class=\"dataframe\">\n",
       "  <thead>\n",
       "    <tr style=\"text-align: right;\">\n",
       "      <th></th>\n",
       "      <th>Unnamed: 0</th>\n",
       "      <th>1Q</th>\n",
       "      <th>2Q</th>\n",
       "      <th>IQR</th>\n",
       "      <th>fpath</th>\n",
       "      <th>h1Q</th>\n",
       "      <th>h2Q</th>\n",
       "      <th>hIQR</th>\n",
       "      <th>hmax</th>\n",
       "      <th>hmean</th>\n",
       "      <th>...</th>\n",
       "      <th>p2Q</th>\n",
       "      <th>pIQR</th>\n",
       "      <th>pmax</th>\n",
       "      <th>pmean</th>\n",
       "      <th>pmedian</th>\n",
       "      <th>pmin</th>\n",
       "      <th>pstd</th>\n",
       "      <th>ptempo</th>\n",
       "      <th>std</th>\n",
       "      <th>tempo</th>\n",
       "    </tr>\n",
       "  </thead>\n",
       "  <tbody>\n",
       "    <tr>\n",
       "      <th>0</th>\n",
       "      <td>0</td>\n",
       "      <td>0.014061</td>\n",
       "      <td>0.084795</td>\n",
       "      <td>0.070734</td>\n",
       "      <td>../audio_test/00326aa9.wav</td>\n",
       "      <td>0.006032</td>\n",
       "      <td>0.035576</td>\n",
       "      <td>0.029545</td>\n",
       "      <td>7401.113420</td>\n",
       "      <td>1.322456</td>\n",
       "      <td>...</td>\n",
       "      <td>0.041454</td>\n",
       "      <td>0.033705</td>\n",
       "      <td>3.318064</td>\n",
       "      <td>0.064334</td>\n",
       "      <td>0.015854</td>\n",
       "      <td>0.000083</td>\n",
       "      <td>0.177139</td>\n",
       "      <td>120.185320</td>\n",
       "      <td>55.144232</td>\n",
       "      <td>120.185320</td>\n",
       "    </tr>\n",
       "    <tr>\n",
       "      <th>1</th>\n",
       "      <td>1</td>\n",
       "      <td>0.013394</td>\n",
       "      <td>0.245053</td>\n",
       "      <td>0.231659</td>\n",
       "      <td>../audio_test/0038a046.wav</td>\n",
       "      <td>0.008532</td>\n",
       "      <td>0.051157</td>\n",
       "      <td>0.042625</td>\n",
       "      <td>324.037334</td>\n",
       "      <td>1.238900</td>\n",
       "      <td>...</td>\n",
       "      <td>0.216832</td>\n",
       "      <td>0.207278</td>\n",
       "      <td>38.445860</td>\n",
       "      <td>0.542569</td>\n",
       "      <td>0.036398</td>\n",
       "      <td>0.000052</td>\n",
       "      <td>2.514641</td>\n",
       "      <td>156.605114</td>\n",
       "      <td>14.784074</td>\n",
       "      <td>143.554688</td>\n",
       "    </tr>\n",
       "    <tr>\n",
       "      <th>2</th>\n",
       "      <td>2</td>\n",
       "      <td>0.215369</td>\n",
       "      <td>1.058884</td>\n",
       "      <td>0.843515</td>\n",
       "      <td>../audio_test/007759c4.wav</td>\n",
       "      <td>0.090394</td>\n",
       "      <td>0.594547</td>\n",
       "      <td>0.504153</td>\n",
       "      <td>4828.572995</td>\n",
       "      <td>2.857105</td>\n",
       "      <td>...</td>\n",
       "      <td>0.455781</td>\n",
       "      <td>0.357637</td>\n",
       "      <td>12.175724</td>\n",
       "      <td>0.352146</td>\n",
       "      <td>0.204795</td>\n",
       "      <td>0.000356</td>\n",
       "      <td>0.417557</td>\n",
       "      <td>126.048018</td>\n",
       "      <td>50.364841</td>\n",
       "      <td>129.199219</td>\n",
       "    </tr>\n",
       "    <tr>\n",
       "      <th>3</th>\n",
       "      <td>3</td>\n",
       "      <td>2.021793</td>\n",
       "      <td>18.280822</td>\n",
       "      <td>16.259030</td>\n",
       "      <td>../audio_test/008afd93.wav</td>\n",
       "      <td>1.095361</td>\n",
       "      <td>16.254089</td>\n",
       "      <td>15.158728</td>\n",
       "      <td>5137.218978</td>\n",
       "      <td>36.577259</td>\n",
       "      <td>...</td>\n",
       "      <td>3.362948</td>\n",
       "      <td>2.593829</td>\n",
       "      <td>28.315251</td>\n",
       "      <td>2.491400</td>\n",
       "      <td>1.636960</td>\n",
       "      <td>0.003326</td>\n",
       "      <td>2.555800</td>\n",
       "      <td>135.999178</td>\n",
       "      <td>171.065620</td>\n",
       "      <td>135.999178</td>\n",
       "    </tr>\n",
       "    <tr>\n",
       "      <th>4</th>\n",
       "      <td>4</td>\n",
       "      <td>1.804103</td>\n",
       "      <td>18.081657</td>\n",
       "      <td>16.277554</td>\n",
       "      <td>../audio_test/00ae03f6.wav</td>\n",
       "      <td>0.872700</td>\n",
       "      <td>10.691268</td>\n",
       "      <td>9.818568</td>\n",
       "      <td>623.500275</td>\n",
       "      <td>15.998074</td>\n",
       "      <td>...</td>\n",
       "      <td>7.125153</td>\n",
       "      <td>6.214247</td>\n",
       "      <td>96.084898</td>\n",
       "      <td>5.188177</td>\n",
       "      <td>2.283466</td>\n",
       "      <td>0.006214</td>\n",
       "      <td>6.842511</td>\n",
       "      <td>123.046875</td>\n",
       "      <td>44.072928</td>\n",
       "      <td>120.185320</td>\n",
       "    </tr>\n",
       "  </tbody>\n",
       "</table>\n",
       "<p>5 rows × 30 columns</p>\n",
       "</div>"
      ],
      "text/plain": [
       "   Unnamed: 0        1Q         2Q        IQR                       fpath  \\\n",
       "0           0  0.014061   0.084795   0.070734  ../audio_test/00326aa9.wav   \n",
       "1           1  0.013394   0.245053   0.231659  ../audio_test/0038a046.wav   \n",
       "2           2  0.215369   1.058884   0.843515  ../audio_test/007759c4.wav   \n",
       "3           3  2.021793  18.280822  16.259030  ../audio_test/008afd93.wav   \n",
       "4           4  1.804103  18.081657  16.277554  ../audio_test/00ae03f6.wav   \n",
       "\n",
       "        h1Q        h2Q       hIQR         hmax      hmean     ...      \\\n",
       "0  0.006032   0.035576   0.029545  7401.113420   1.322456     ...       \n",
       "1  0.008532   0.051157   0.042625   324.037334   1.238900     ...       \n",
       "2  0.090394   0.594547   0.504153  4828.572995   2.857105     ...       \n",
       "3  1.095361  16.254089  15.158728  5137.218978  36.577259     ...       \n",
       "4  0.872700  10.691268   9.818568   623.500275  15.998074     ...       \n",
       "\n",
       "        p2Q      pIQR       pmax     pmean   pmedian      pmin      pstd  \\\n",
       "0  0.041454  0.033705   3.318064  0.064334  0.015854  0.000083  0.177139   \n",
       "1  0.216832  0.207278  38.445860  0.542569  0.036398  0.000052  2.514641   \n",
       "2  0.455781  0.357637  12.175724  0.352146  0.204795  0.000356  0.417557   \n",
       "3  3.362948  2.593829  28.315251  2.491400  1.636960  0.003326  2.555800   \n",
       "4  7.125153  6.214247  96.084898  5.188177  2.283466  0.006214  6.842511   \n",
       "\n",
       "       ptempo         std       tempo  \n",
       "0  120.185320   55.144232  120.185320  \n",
       "1  156.605114   14.784074  143.554688  \n",
       "2  126.048018   50.364841  129.199219  \n",
       "3  135.999178  171.065620  135.999178  \n",
       "4  123.046875   44.072928  120.185320  \n",
       "\n",
       "[5 rows x 30 columns]"
      ]
     },
     "execution_count": 5,
     "metadata": {},
     "output_type": "execute_result"
    }
   ],
   "source": [
    "test_info.head()"
   ]
  },
  {
   "cell_type": "code",
   "execution_count": 6,
   "metadata": {},
   "outputs": [],
   "source": [
    "labels = list(train_info.label.unique())"
   ]
  },
  {
   "cell_type": "code",
   "execution_count": 7,
   "metadata": {},
   "outputs": [],
   "source": [
    "labels_dict = {}\n",
    "for i in range(len(labels)):\n",
    "    labels_dict[labels[i]] = i"
   ]
  },
  {
   "cell_type": "code",
   "execution_count": 8,
   "metadata": {},
   "outputs": [
    {
     "data": {
      "text/plain": [
       "{'Acoustic_guitar': 38,\n",
       " 'Applause': 37,\n",
       " 'Bark': 19,\n",
       " 'Bass_drum': 21,\n",
       " 'Burping_or_eructation': 28,\n",
       " 'Bus': 22,\n",
       " 'Cello': 4,\n",
       " 'Chime': 20,\n",
       " 'Clarinet': 7,\n",
       " 'Computer_keyboard': 8,\n",
       " 'Cough': 17,\n",
       " 'Cowbell': 33,\n",
       " 'Double_bass': 29,\n",
       " 'Drawer_open_or_close': 36,\n",
       " 'Electric_piano': 34,\n",
       " 'Fart': 14,\n",
       " 'Finger_snapping': 40,\n",
       " 'Fireworks': 31,\n",
       " 'Flute': 16,\n",
       " 'Glockenspiel': 3,\n",
       " 'Gong': 26,\n",
       " 'Gunshot_or_gunfire': 6,\n",
       " 'Harmonica': 25,\n",
       " 'Hi-hat': 0,\n",
       " 'Keys_jangling': 9,\n",
       " 'Knock': 5,\n",
       " 'Laughter': 12,\n",
       " 'Meow': 35,\n",
       " 'Microwave_oven': 27,\n",
       " 'Oboe': 15,\n",
       " 'Saxophone': 1,\n",
       " 'Scissors': 24,\n",
       " 'Shatter': 30,\n",
       " 'Snare_drum': 10,\n",
       " 'Squeak': 23,\n",
       " 'Tambourine': 32,\n",
       " 'Tearing': 13,\n",
       " 'Telephone': 18,\n",
       " 'Trumpet': 2,\n",
       " 'Violin_or_fiddle': 39,\n",
       " 'Writing': 11}"
      ]
     },
     "execution_count": 8,
     "metadata": {},
     "output_type": "execute_result"
    }
   ],
   "source": [
    "labels_dict"
   ]
  },
  {
   "cell_type": "code",
   "execution_count": 10,
   "metadata": {},
   "outputs": [],
   "source": [
    "label_n = [labels_dict[label] for label in train_info.label]\n",
    "test_label_n = [labels_dict[label] for label in test_info.label]"
   ]
  },
  {
   "cell_type": "code",
   "execution_count": 11,
   "metadata": {},
   "outputs": [],
   "source": [
    "train_info.label = label_n\n",
    "test_info.label = test_label_n"
   ]
  },
  {
   "cell_type": "code",
   "execution_count": 12,
   "metadata": {
    "scrolled": true
   },
   "outputs": [
    {
     "data": {
      "image/png": "[encoded data removed]",
      "text/plain": [
       "<matplotlib.figure.Figure at 0x21ebcdd8be0>"
      ]
     },
     "metadata": {},
     "output_type": "display_data"
    },
    {
     "data": {
      "text/plain": [
       "<matplotlib.axes._subplots.AxesSubplot at 0x21ebd0636d8>"
      ]
     },
     "execution_count": 12,
     "metadata": {},
     "output_type": "execute_result"
    },
    {
     "data": {
      "image/png": "[encoded data removed]",
      "text/plain": [
       "<matplotlib.figure.Figure at 0x21ebcdf5048>"
      ]
     },
     "metadata": {},
     "output_type": "display_data"
    }
   ],
   "source": [
    "test_info.label.hist(bins=40)\n",
    "plt.show()\n",
    "train_info.label.hist(bins=40)"
   ]
  },
  {
   "cell_type": "code",
   "execution_count": 13,
   "metadata": {},
   "outputs": [],
   "source": [
    "x_train = train_info[['1Q', '2Q', 'IQR', 'max', 'mean', 'median', 'min', 'std',\n",
    "                     'p1Q', 'p2Q', 'pIQR', 'pmax', 'pmean', 'pmedian', 'pmin', 'pstd',\n",
    "                     'h1Q', 'h2Q', 'hIQR', 'hmax', 'hmean', 'hmedian', 'hmin', 'hstd']]\n",
    "y_train = train_info['label']\n",
    "x_test = test_info[['1Q', '2Q', 'IQR', 'max', 'mean', 'median', 'min', 'std',\n",
    "                     'p1Q', 'p2Q', 'pIQR', 'pmax', 'pmean', 'pmedian', 'pmin', 'pstd',\n",
    "                     'h1Q', 'h2Q', 'hIQR', 'hmax', 'hmean', 'hmedian', 'hmin', 'hstd']]\n",
    "y_test = test_info['label']"
   ]
  },
  {
   "cell_type": "code",
   "execution_count": 14,
   "metadata": {},
   "outputs": [],
   "source": [
    "# Feature Scaling\n",
    "from sklearn.preprocessing import StandardScaler\n",
    "sc = StandardScaler()\n",
    "x_train = sc.fit_transform(x_train)\n",
    "x_test = sc.transform(x_test)"
   ]
  },
  {
   "cell_type": "code",
   "execution_count": 14,
   "metadata": {},
   "outputs": [],
   "source": [
    "# KNN\n",
    "from sklearn.neighbors import KNeighborsClassifier\n",
    "knn_classifier = KNeighborsClassifier(weights='distance', n_neighbors=7, metric='minkowski', p=2)\n",
    "knn_classifier.fit(x_train, y_train)\n",
    "y_pred_knn = knn_classifier.predict(x_test)"
   ]
  },
  {
   "cell_type": "code",
   "execution_count": 15,
   "metadata": {},
   "outputs": [],
   "source": [
    "# SVM \n",
    "from sklearn.svm import SVC\n",
    "svc_classifier = SVC(kernel='linear', random_state=RANDOM_SEED)\n",
    "svc_classifier.fit(x_train, y_train)\n",
    "y_pred_svc = svc_classifier.predict(x_test)"
   ]
  },
  {
   "cell_type": "code",
   "execution_count": 15,
   "metadata": {},
   "outputs": [],
   "source": [
    "# Random Forest\n",
    "from sklearn.ensemble import RandomForestClassifier\n",
    "random_forest_classifier = RandomForestClassifier(n_estimators=100, criterion='entropy', random_state=RANDOM_SEED)\n",
    "random_forest_classifier.fit(x_train, y_train)\n",
    "y_pred_rfc = random_forest_classifier.predict(x_test)"
   ]
  },
  {
   "cell_type": "code",
   "execution_count": 19,
   "metadata": {},
   "outputs": [
    {
     "data": {
      "text/plain": [
       "((9473, 11), (9473, 24))"
      ]
     },
     "execution_count": 19,
     "metadata": {},
     "output_type": "execute_result"
    }
   ],
   "source": [
    "random_forest_classifier.feature_importances_\n",
    "from sklearn.feature_selection import SelectFromModel\n",
    "model = SelectFromModel(random_forest_classifier, prefit=True)\n",
    "x_new = model.transform(x_train)\n",
    "x_new.shape, x_train.shape"
   ]
  },
  {
   "cell_type": "code",
   "execution_count": 21,
   "metadata": {},
   "outputs": [],
   "source": [
    "random_forest_classifier.fit(x_new, y_train)\n",
    "y_pred_new = random_forest_classifier.predict(x_new)"
   ]
  },
  {
   "cell_type": "code",
   "execution_count": 25,
   "metadata": {},
   "outputs": [],
   "source": [
    "# Gradient Boosting\n",
    "from sklearn.ensemble import GradientBoostingClassifier\n",
    "gbc = GradientBoostingClassifier(max_features=0.4, random_state=RANDOM_SEED)\n",
    "gbc.fit(x_train, y_train)\n",
    "y_pred_gbc = gbc.predict(x_test)"
   ]
  },
  {
   "cell_type": "code",
   "execution_count": 10,
   "metadata": {},
   "outputs": [],
   "source": [
    "# Ada Boost\n",
    "from sklearn.ensemble import AdaBoostClassifier\n",
    "abc = AdaBoostClassifier(random_state=RANDOM_SEED)\n",
    "abc.fit(x_train, y_train)\n",
    "y_pred_abc = abc.predict(x_test)"
   ]
  },
  {
   "cell_type": "code",
   "execution_count": 22,
   "metadata": {},
   "outputs": [
    {
     "ename": "ValueError",
     "evalue": "Found input variables with inconsistent numbers of samples: [1600, 9473]",
     "output_type": "error",
     "traceback": [
      "\u001b[1;31m---------------------------------------------------------------------------\u001b[0m",
      "\u001b[1;31mValueError\u001b[0m                                Traceback (most recent call last)",
      "\u001b[1;32m<ipython-input-22-b56b38094d73>\u001b[0m in \u001b[0;36m<module>\u001b[1;34m()\u001b[0m\n\u001b[0;32m      3\u001b[0m \u001b[1;31m# acc_svc = acc(y_test, y_pred_svc)\u001b[0m\u001b[1;33m\u001b[0m\u001b[1;33m\u001b[0m\u001b[0m\n\u001b[0;32m      4\u001b[0m \u001b[0macc_rfc\u001b[0m \u001b[1;33m=\u001b[0m \u001b[0macc\u001b[0m\u001b[1;33m(\u001b[0m\u001b[0my_test\u001b[0m\u001b[1;33m,\u001b[0m \u001b[0my_pred_rfc\u001b[0m\u001b[1;33m)\u001b[0m\u001b[1;33m\u001b[0m\u001b[0m\n\u001b[1;32m----> 5\u001b[1;33m \u001b[0macc_new\u001b[0m \u001b[1;33m=\u001b[0m \u001b[0macc\u001b[0m\u001b[1;33m(\u001b[0m\u001b[0my_test\u001b[0m\u001b[1;33m,\u001b[0m \u001b[0my_pred_new\u001b[0m\u001b[1;33m)\u001b[0m\u001b[1;33m\u001b[0m\u001b[0m\n\u001b[0m\u001b[0;32m      6\u001b[0m \u001b[1;31m# acc_gbv = acc(y_test, y_pred_gbc)\u001b[0m\u001b[1;33m\u001b[0m\u001b[1;33m\u001b[0m\u001b[0m\n\u001b[0;32m      7\u001b[0m \u001b[1;31m# acc_abc = acc(y_test, y_pred_abc)\u001b[0m\u001b[1;33m\u001b[0m\u001b[1;33m\u001b[0m\u001b[0m\n",
      "\u001b[1;32mC:\\Users\\Vitor Eller\\Anaconda3\\lib\\site-packages\\sklearn\\metrics\\classification.py\u001b[0m in \u001b[0;36maccuracy_score\u001b[1;34m(y_true, y_pred, normalize, sample_weight)\u001b[0m\n\u001b[0;32m    174\u001b[0m \u001b[1;33m\u001b[0m\u001b[0m\n\u001b[0;32m    175\u001b[0m     \u001b[1;31m# Compute accuracy for each possible representation\u001b[0m\u001b[1;33m\u001b[0m\u001b[1;33m\u001b[0m\u001b[0m\n\u001b[1;32m--> 176\u001b[1;33m     \u001b[0my_type\u001b[0m\u001b[1;33m,\u001b[0m \u001b[0my_true\u001b[0m\u001b[1;33m,\u001b[0m \u001b[0my_pred\u001b[0m \u001b[1;33m=\u001b[0m \u001b[0m_check_targets\u001b[0m\u001b[1;33m(\u001b[0m\u001b[0my_true\u001b[0m\u001b[1;33m,\u001b[0m \u001b[0my_pred\u001b[0m\u001b[1;33m)\u001b[0m\u001b[1;33m\u001b[0m\u001b[0m\n\u001b[0m\u001b[0;32m    177\u001b[0m     \u001b[1;32mif\u001b[0m \u001b[0my_type\u001b[0m\u001b[1;33m.\u001b[0m\u001b[0mstartswith\u001b[0m\u001b[1;33m(\u001b[0m\u001b[1;34m'multilabel'\u001b[0m\u001b[1;33m)\u001b[0m\u001b[1;33m:\u001b[0m\u001b[1;33m\u001b[0m\u001b[0m\n\u001b[0;32m    178\u001b[0m         \u001b[0mdiffering_labels\u001b[0m \u001b[1;33m=\u001b[0m \u001b[0mcount_nonzero\u001b[0m\u001b[1;33m(\u001b[0m\u001b[0my_true\u001b[0m \u001b[1;33m-\u001b[0m \u001b[0my_pred\u001b[0m\u001b[1;33m,\u001b[0m \u001b[0maxis\u001b[0m\u001b[1;33m=\u001b[0m\u001b[1;36m1\u001b[0m\u001b[1;33m)\u001b[0m\u001b[1;33m\u001b[0m\u001b[0m\n",
      "\u001b[1;32mC:\\Users\\Vitor Eller\\Anaconda3\\lib\\site-packages\\sklearn\\metrics\\classification.py\u001b[0m in \u001b[0;36m_check_targets\u001b[1;34m(y_true, y_pred)\u001b[0m\n\u001b[0;32m     69\u001b[0m     \u001b[0my_pred\u001b[0m \u001b[1;33m:\u001b[0m \u001b[0marray\u001b[0m \u001b[1;32mor\u001b[0m \u001b[0mindicator\u001b[0m \u001b[0mmatrix\u001b[0m\u001b[1;33m\u001b[0m\u001b[0m\n\u001b[0;32m     70\u001b[0m     \"\"\"\n\u001b[1;32m---> 71\u001b[1;33m     \u001b[0mcheck_consistent_length\u001b[0m\u001b[1;33m(\u001b[0m\u001b[0my_true\u001b[0m\u001b[1;33m,\u001b[0m \u001b[0my_pred\u001b[0m\u001b[1;33m)\u001b[0m\u001b[1;33m\u001b[0m\u001b[0m\n\u001b[0m\u001b[0;32m     72\u001b[0m     \u001b[0mtype_true\u001b[0m \u001b[1;33m=\u001b[0m \u001b[0mtype_of_target\u001b[0m\u001b[1;33m(\u001b[0m\u001b[0my_true\u001b[0m\u001b[1;33m)\u001b[0m\u001b[1;33m\u001b[0m\u001b[0m\n\u001b[0;32m     73\u001b[0m     \u001b[0mtype_pred\u001b[0m \u001b[1;33m=\u001b[0m \u001b[0mtype_of_target\u001b[0m\u001b[1;33m(\u001b[0m\u001b[0my_pred\u001b[0m\u001b[1;33m)\u001b[0m\u001b[1;33m\u001b[0m\u001b[0m\n",
      "\u001b[1;32mC:\\Users\\Vitor Eller\\Anaconda3\\lib\\site-packages\\sklearn\\utils\\validation.py\u001b[0m in \u001b[0;36mcheck_consistent_length\u001b[1;34m(*arrays)\u001b[0m\n\u001b[0;32m    202\u001b[0m     \u001b[1;32mif\u001b[0m \u001b[0mlen\u001b[0m\u001b[1;33m(\u001b[0m\u001b[0muniques\u001b[0m\u001b[1;33m)\u001b[0m \u001b[1;33m>\u001b[0m \u001b[1;36m1\u001b[0m\u001b[1;33m:\u001b[0m\u001b[1;33m\u001b[0m\u001b[0m\n\u001b[0;32m    203\u001b[0m         raise ValueError(\"Found input variables with inconsistent numbers of\"\n\u001b[1;32m--> 204\u001b[1;33m                          \" samples: %r\" % [int(l) for l in lengths])\n\u001b[0m\u001b[0;32m    205\u001b[0m \u001b[1;33m\u001b[0m\u001b[0m\n\u001b[0;32m    206\u001b[0m \u001b[1;33m\u001b[0m\u001b[0m\n",
      "\u001b[1;31mValueError\u001b[0m: Found input variables with inconsistent numbers of samples: [1600, 9473]"
     ]
    }
   ],
   "source": [
    "from sklearn.metrics import accuracy_score as acc\n",
    "# acc_knn = acc(y_test, y_pred_knn)\n",
    "# acc_svc = acc(y_test, y_pred_svc)\n",
    "acc_rfc = acc(y_test, y_pred_rfc)\n",
    "acc_new = acc(y_test, y_pred_new)\n",
    "# acc_gbv = acc(y_test, y_pred_gbc)\n",
    "# acc_abc = acc(y_test, y_pred_abc)"
   ]
  },
  {
   "cell_type": "code",
   "execution_count": null,
   "metadata": {},
   "outputs": [],
   "source": []
  }
 ],
 "metadata": {
  "kernelspec": {
   "display_name": "Python 3",
   "language": "python",
   "name": "python3"
  },
  "language_info": {
   "codemirror_mode": {
    "name": "ipython",
    "version": 3
   },
   "file_extension": ".py",
   "mimetype": "text/x-python",
   "name": "python",
   "nbconvert_exporter": "python",
   "pygments_lexer": "ipython3",
   "version": "3.6.4"
  }
 },
 "nbformat": 4,
 "nbformat_minor": 2
}
