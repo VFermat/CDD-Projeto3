{
 "cells": [
  {
   "cell_type": "code",
   "execution_count": 1,
   "metadata": {},
   "outputs": [],
   "source": [
    "import pandas as pd\n",
    "import numpy as np\n",
    "import matplotlib.pyplot as plt\n",
    "import seaborn as sns\n",
    "\n",
    "RANDOM_SEED = 42"
   ]
  },
  {
   "cell_type": "code",
   "execution_count": 2,
   "metadata": {},
   "outputs": [],
   "source": [
    "def transpose_and_save(csv_name, csv_out_name):\n",
    "    dataset = pd.read_csv(csv_name)\n",
    "    dataset = dataset.transpose()\n",
    "    dataset.to_csv(path_or_buf=csv_out_name)   "
   ]
  },
  {
   "cell_type": "code",
   "execution_count": 3,
   "metadata": {},
   "outputs": [],
   "source": [
    "train_dataset = pd.read_csv(\"train_dataset.csv\", header=1)\n",
    "\n",
    "test_dataset = pd.read_csv(\"test_dataset.csv\", header=1)"
   ]
  },
  {
   "cell_type": "markdown",
   "metadata": {},
   "source": [
    "# Colunas:\n",
    "['Unnamed: 0', 'Features', 'F_1Q', 'F_2Q', 'F_IQR', 'F_max', 'F_mean',\n",
    "       'F_median', 'F_min', 'F_std', 'SC_1Q', 'SC_2Q', 'SC_IQR', 'SC_max',\n",
    "       'SC_mean', 'SC_median', 'SC_min', 'SC_std', 'SContr_1Q', 'SContr_2Q',\n",
    "       'SContr_IQR', 'SContr_max', 'SContr_mean', 'SContr_median',\n",
    "       'SContr_min', 'SContr_std', 'SF_1Q', 'SF_2Q', 'SF_IQR', 'SF_max',\n",
    "       'SF_mean', 'SF_median', 'SF_min', 'SF_std', 'filepath', 'label']"
   ]
  },
  {
   "cell_type": "code",
   "execution_count": 4,
   "metadata": {},
   "outputs": [],
   "source": [
    "x_train = train_dataset[['F_1Q', 'F_2Q', 'F_IQR', 'F_max', 'F_mean', 'F_median', 'F_min', 'F_std', 'SC_1Q',\n",
    "                      'SC_2Q', 'SC_IQR', 'SC_max', 'SC_mean', 'SC_median', 'SC_min', 'SC_std', 'SContr_1Q',\n",
    "                      'SContr_2Q', 'SContr_IQR', 'SContr_max', 'SContr_mean', 'SContr_median', 'SContr_min',\n",
    "                      'SContr_std', 'SF_1Q', 'SF_2Q', 'SF_IQR', 'SF_max', 'SF_mean', 'SF_median', 'SF_min', 'SF_std']]\n",
    "y_train = train_dataset['label']\n",
    "\n",
    "x_test = test_dataset[['F_1Q', 'F_2Q', 'F_IQR', 'F_max', 'F_mean', 'F_median', 'F_min', 'F_std', 'SC_1Q',\n",
    "                      'SC_2Q', 'SC_IQR', 'SC_max', 'SC_mean', 'SC_median', 'SC_min', 'SC_std', 'SContr_1Q',\n",
    "                      'SContr_2Q', 'SContr_IQR', 'SContr_max', 'SContr_mean', 'SContr_median', 'SContr_min',\n",
    "                      'SContr_std', 'SF_1Q', 'SF_2Q', 'SF_IQR', 'SF_max', 'SF_mean', 'SF_median', 'SF_min', 'SF_std']]\n",
    "y_test = test_dataset['label']"
   ]
  },
  {
   "cell_type": "code",
   "execution_count": 5,
   "metadata": {},
   "outputs": [],
   "source": [
    "# Feature Scaling\n",
    "from sklearn.preprocessing import StandardScaler\n",
    "sc = StandardScaler()\n",
    "x_train = sc.fit_transform(x_train)\n",
    "x_test = sc.transform(x_test)"
   ]
  },
  {
   "cell_type": "code",
   "execution_count": 14,
   "metadata": {},
   "outputs": [],
   "source": [
    "from sklearn.feature_selection import VarianceThreshold\n",
    "sel = VarianceThreshold(threshold=(0.6))\n",
    "x_train = sel.fit_transform(x_train)\n",
    "x_test = sel.transform(x_test)"
   ]
  },
  {
   "cell_type": "code",
   "execution_count": 15,
   "metadata": {},
   "outputs": [],
   "source": [
    "# Random Forest\n",
    "from sklearn.ensemble import RandomForestClassifier\n",
    "random_forest_classifier = RandomForestClassifier(n_estimators=100, criterion='entropy', random_state=RANDOM_SEED)\n",
    "random_forest_classifier.fit(x_train, y_train)\n",
    "y_pred_rfc = random_forest_classifier.predict(x_test)"
   ]
  },
  {
   "cell_type": "code",
   "execution_count": 16,
   "metadata": {},
   "outputs": [],
   "source": [
    "from sklearn.metrics import accuracy_score as acc\n",
    "acc_rfc = acc(y_test, y_pred_rfc)"
   ]
  },
  {
   "cell_type": "code",
   "execution_count": 17,
   "metadata": {},
   "outputs": [
    {
     "name": "stdout",
     "output_type": "stream",
     "text": [
      "Accuracy: 56.99999999999999\n"
     ]
    }
   ],
   "source": [
    "print(\"Accuracy: {0}\".format(acc_rfc * 100))"
   ]
  },
  {
   "cell_type": "code",
   "execution_count": null,
   "metadata": {},
   "outputs": [],
   "source": []
  }
 ],
 "metadata": {
  "kernelspec": {
   "display_name": "Python 3",
   "language": "python",
   "name": "python3"
  },
  "language_info": {
   "codemirror_mode": {
    "name": "ipython",
    "version": 3
   },
   "file_extension": ".py",
   "mimetype": "text/x-python",
   "name": "python",
   "nbconvert_exporter": "python",
   "pygments_lexer": "ipython3",
   "version": "3.6.4"
  }
 },
 "nbformat": 4,
 "nbformat_minor": 2
}
