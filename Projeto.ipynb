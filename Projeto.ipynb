{
 "cells": [
  {
   "cell_type": "code",
   "execution_count": 1,
   "metadata": {},
   "outputs": [],
   "source": [
    "import pandas as pd\n",
    "import numpy as np\n",
    "import matplotlib.pyplot as plt\n",
    "import seaborn as sns\n",
    "\n",
    "RANDOM_SEED = 42"
   ]
  },
  {
   "cell_type": "code",
   "execution_count": 2,
   "metadata": {},
   "outputs": [],
   "source": [
    "train = pd.read_csv('train.csv')\n",
    "train_info = pd.read_csv('working.csv')"
   ]
  },
  {
   "cell_type": "code",
   "execution_count": 3,
   "metadata": {},
   "outputs": [],
   "source": [
    "test = pd.read_csv('usefull_test.csv')\n",
    "test_info = pd.read_csv('test_info.csv')"
   ]
  },
  {
   "cell_type": "code",
   "execution_count": 4,
   "metadata": {
    "scrolled": true
   },
   "outputs": [
    {
     "data": {
      "text/html": [
       "<div>\n",
       "<style scoped>\n",
       "    .dataframe tbody tr th:only-of-type {\n",
       "        vertical-align: middle;\n",
       "    }\n",
       "\n",
       "    .dataframe tbody tr th {\n",
       "        vertical-align: top;\n",
       "    }\n",
       "\n",
       "    .dataframe thead th {\n",
       "        text-align: right;\n",
       "    }\n",
       "</style>\n",
       "<table border=\"1\" class=\"dataframe\">\n",
       "  <thead>\n",
       "    <tr style=\"text-align: right;\">\n",
       "      <th></th>\n",
       "      <th>Unnamed: 0</th>\n",
       "      <th>1Q</th>\n",
       "      <th>2Q</th>\n",
       "      <th>IQR</th>\n",
       "      <th>fpath</th>\n",
       "      <th>label</th>\n",
       "      <th>max</th>\n",
       "      <th>mean</th>\n",
       "      <th>median</th>\n",
       "      <th>min</th>\n",
       "      <th>skew</th>\n",
       "      <th>std</th>\n",
       "    </tr>\n",
       "  </thead>\n",
       "  <tbody>\n",
       "    <tr>\n",
       "      <th>0</th>\n",
       "      <td>0</td>\n",
       "      <td>6.230491</td>\n",
       "      <td>27.272478</td>\n",
       "      <td>21.041986</td>\n",
       "      <td>audio_train/audio_train/00044347.wav</td>\n",
       "      <td>Hi-hat</td>\n",
       "      <td>577.259387</td>\n",
       "      <td>24.051130</td>\n",
       "      <td>13.204853</td>\n",
       "      <td>0.099928</td>\n",
       "      <td>4.257246</td>\n",
       "      <td>34.076773</td>\n",
       "    </tr>\n",
       "    <tr>\n",
       "      <th>1</th>\n",
       "      <td>1</td>\n",
       "      <td>5.674157</td>\n",
       "      <td>35.867089</td>\n",
       "      <td>30.192933</td>\n",
       "      <td>audio_train/audio_train/001ca53d.wav</td>\n",
       "      <td>Saxophone</td>\n",
       "      <td>3170.740614</td>\n",
       "      <td>49.153424</td>\n",
       "      <td>13.990031</td>\n",
       "      <td>0.006609</td>\n",
       "      <td>8.895209</td>\n",
       "      <td>141.165615</td>\n",
       "    </tr>\n",
       "    <tr>\n",
       "      <th>2</th>\n",
       "      <td>2</td>\n",
       "      <td>0.012762</td>\n",
       "      <td>0.066496</td>\n",
       "      <td>0.053734</td>\n",
       "      <td>audio_train/audio_train/002d256b.wav</td>\n",
       "      <td>Trumpet</td>\n",
       "      <td>7.276662</td>\n",
       "      <td>0.089362</td>\n",
       "      <td>0.029888</td>\n",
       "      <td>0.000128</td>\n",
       "      <td>13.358796</td>\n",
       "      <td>0.264248</td>\n",
       "    </tr>\n",
       "    <tr>\n",
       "      <th>3</th>\n",
       "      <td>3</td>\n",
       "      <td>0.420803</td>\n",
       "      <td>0.977241</td>\n",
       "      <td>0.556438</td>\n",
       "      <td>audio_train/audio_train/0033e230.wav</td>\n",
       "      <td>Glockenspiel</td>\n",
       "      <td>788.281803</td>\n",
       "      <td>1.144892</td>\n",
       "      <td>0.674073</td>\n",
       "      <td>0.000313</td>\n",
       "      <td>63.396895</td>\n",
       "      <td>7.775617</td>\n",
       "    </tr>\n",
       "    <tr>\n",
       "      <th>4</th>\n",
       "      <td>4</td>\n",
       "      <td>0.646084</td>\n",
       "      <td>3.692972</td>\n",
       "      <td>3.046888</td>\n",
       "      <td>audio_train/audio_train/00353774.wav</td>\n",
       "      <td>Cello</td>\n",
       "      <td>5414.037780</td>\n",
       "      <td>7.551387</td>\n",
       "      <td>1.383008</td>\n",
       "      <td>0.006342</td>\n",
       "      <td>40.976874</td>\n",
       "      <td>61.102422</td>\n",
       "    </tr>\n",
       "  </tbody>\n",
       "</table>\n",
       "</div>"
      ],
      "text/plain": [
       "   Unnamed: 0        1Q         2Q        IQR  \\\n",
       "0           0  6.230491  27.272478  21.041986   \n",
       "1           1  5.674157  35.867089  30.192933   \n",
       "2           2  0.012762   0.066496   0.053734   \n",
       "3           3  0.420803   0.977241   0.556438   \n",
       "4           4  0.646084   3.692972   3.046888   \n",
       "\n",
       "                                  fpath         label          max       mean  \\\n",
       "0  audio_train/audio_train/00044347.wav        Hi-hat   577.259387  24.051130   \n",
       "1  audio_train/audio_train/001ca53d.wav     Saxophone  3170.740614  49.153424   \n",
       "2  audio_train/audio_train/002d256b.wav       Trumpet     7.276662   0.089362   \n",
       "3  audio_train/audio_train/0033e230.wav  Glockenspiel   788.281803   1.144892   \n",
       "4  audio_train/audio_train/00353774.wav         Cello  5414.037780   7.551387   \n",
       "\n",
       "      median       min       skew         std  \n",
       "0  13.204853  0.099928   4.257246   34.076773  \n",
       "1  13.990031  0.006609   8.895209  141.165615  \n",
       "2   0.029888  0.000128  13.358796    0.264248  \n",
       "3   0.674073  0.000313  63.396895    7.775617  \n",
       "4   1.383008  0.006342  40.976874   61.102422  "
      ]
     },
     "execution_count": 4,
     "metadata": {},
     "output_type": "execute_result"
    }
   ],
   "source": [
    "train_info.head()"
   ]
  },
  {
   "cell_type": "code",
   "execution_count": 5,
   "metadata": {},
   "outputs": [
    {
     "data": {
      "text/html": [
       "<div>\n",
       "<style scoped>\n",
       "    .dataframe tbody tr th:only-of-type {\n",
       "        vertical-align: middle;\n",
       "    }\n",
       "\n",
       "    .dataframe tbody tr th {\n",
       "        vertical-align: top;\n",
       "    }\n",
       "\n",
       "    .dataframe thead th {\n",
       "        text-align: right;\n",
       "    }\n",
       "</style>\n",
       "<table border=\"1\" class=\"dataframe\">\n",
       "  <thead>\n",
       "    <tr style=\"text-align: right;\">\n",
       "      <th></th>\n",
       "      <th>Unnamed: 0</th>\n",
       "      <th>1Q</th>\n",
       "      <th>2Q</th>\n",
       "      <th>IQR</th>\n",
       "      <th>fpath</th>\n",
       "      <th>label</th>\n",
       "      <th>max</th>\n",
       "      <th>mean</th>\n",
       "      <th>median</th>\n",
       "      <th>min</th>\n",
       "      <th>skew</th>\n",
       "      <th>std</th>\n",
       "    </tr>\n",
       "  </thead>\n",
       "  <tbody>\n",
       "    <tr>\n",
       "      <th>0</th>\n",
       "      <td>4</td>\n",
       "      <td>0.014061</td>\n",
       "      <td>0.084795</td>\n",
       "      <td>0.070734</td>\n",
       "      <td>audio_test/00326aa9.wav</td>\n",
       "      <td>Oboe</td>\n",
       "      <td>7401.268468</td>\n",
       "      <td>1.379161</td>\n",
       "      <td>0.027823</td>\n",
       "      <td>0.000057</td>\n",
       "      <td>98.376364</td>\n",
       "      <td>55.144232</td>\n",
       "    </tr>\n",
       "    <tr>\n",
       "      <th>1</th>\n",
       "      <td>5</td>\n",
       "      <td>0.013394</td>\n",
       "      <td>0.245053</td>\n",
       "      <td>0.231659</td>\n",
       "      <td>audio_test/0038a046.wav</td>\n",
       "      <td>Bass_drum</td>\n",
       "      <td>333.812542</td>\n",
       "      <td>1.707540</td>\n",
       "      <td>0.042594</td>\n",
       "      <td>0.000080</td>\n",
       "      <td>13.619772</td>\n",
       "      <td>14.784074</td>\n",
       "    </tr>\n",
       "    <tr>\n",
       "      <th>2</th>\n",
       "      <td>8</td>\n",
       "      <td>0.215369</td>\n",
       "      <td>1.058884</td>\n",
       "      <td>0.843515</td>\n",
       "      <td>audio_test/007759c4.wav</td>\n",
       "      <td>Saxophone</td>\n",
       "      <td>4828.587852</td>\n",
       "      <td>3.166389</td>\n",
       "      <td>0.469748</td>\n",
       "      <td>0.001129</td>\n",
       "      <td>55.834790</td>\n",
       "      <td>50.364841</td>\n",
       "    </tr>\n",
       "    <tr>\n",
       "      <th>3</th>\n",
       "      <td>9</td>\n",
       "      <td>2.021793</td>\n",
       "      <td>18.280822</td>\n",
       "      <td>16.259030</td>\n",
       "      <td>audio_test/008afd93.wav</td>\n",
       "      <td>Saxophone</td>\n",
       "      <td>5139.050317</td>\n",
       "      <td>37.776967</td>\n",
       "      <td>5.585608</td>\n",
       "      <td>0.009497</td>\n",
       "      <td>13.582068</td>\n",
       "      <td>171.065620</td>\n",
       "    </tr>\n",
       "    <tr>\n",
       "      <th>4</th>\n",
       "      <td>12</td>\n",
       "      <td>1.804103</td>\n",
       "      <td>18.081657</td>\n",
       "      <td>16.277554</td>\n",
       "      <td>audio_test/00ae03f6.wav</td>\n",
       "      <td>Chime</td>\n",
       "      <td>642.191062</td>\n",
       "      <td>20.374544</td>\n",
       "      <td>5.233917</td>\n",
       "      <td>0.006413</td>\n",
       "      <td>4.841297</td>\n",
       "      <td>44.072928</td>\n",
       "    </tr>\n",
       "  </tbody>\n",
       "</table>\n",
       "</div>"
      ],
      "text/plain": [
       "   Unnamed: 0        1Q         2Q        IQR                    fpath  \\\n",
       "0           4  0.014061   0.084795   0.070734  audio_test/00326aa9.wav   \n",
       "1           5  0.013394   0.245053   0.231659  audio_test/0038a046.wav   \n",
       "2           8  0.215369   1.058884   0.843515  audio_test/007759c4.wav   \n",
       "3           9  2.021793  18.280822  16.259030  audio_test/008afd93.wav   \n",
       "4          12  1.804103  18.081657  16.277554  audio_test/00ae03f6.wav   \n",
       "\n",
       "       label          max       mean    median       min       skew  \\\n",
       "0       Oboe  7401.268468   1.379161  0.027823  0.000057  98.376364   \n",
       "1  Bass_drum   333.812542   1.707540  0.042594  0.000080  13.619772   \n",
       "2  Saxophone  4828.587852   3.166389  0.469748  0.001129  55.834790   \n",
       "3  Saxophone  5139.050317  37.776967  5.585608  0.009497  13.582068   \n",
       "4      Chime   642.191062  20.374544  5.233917  0.006413   4.841297   \n",
       "\n",
       "          std  \n",
       "0   55.144232  \n",
       "1   14.784074  \n",
       "2   50.364841  \n",
       "3  171.065620  \n",
       "4   44.072928  "
      ]
     },
     "execution_count": 5,
     "metadata": {},
     "output_type": "execute_result"
    }
   ],
   "source": [
    "test_info.head()"
   ]
  },
  {
   "cell_type": "code",
   "execution_count": 6,
   "metadata": {},
   "outputs": [],
   "source": [
    "labels = list(train_info.label.unique())"
   ]
  },
  {
   "cell_type": "code",
   "execution_count": 7,
   "metadata": {},
   "outputs": [],
   "source": [
    "labels_dict = {}\n",
    "for i in range(len(labels)):\n",
    "    labels_dict[labels[i]] = i"
   ]
  },
  {
   "cell_type": "code",
   "execution_count": 8,
   "metadata": {},
   "outputs": [],
   "source": [
    "label_n = [labels_dict[label] for label in train_info.label]\n",
    "test_label_n = [labels_dict[label] for label in test_info.label]"
   ]
  },
  {
   "cell_type": "code",
   "execution_count": 9,
   "metadata": {},
   "outputs": [],
   "source": [
    "train_info.label = label_n\n",
    "test_info.label = test_label_n"
   ]
  },
  {
   "cell_type": "code",
   "execution_count": 10,
   "metadata": {
    "scrolled": true
   },
   "outputs": [
    {
     "data": {
      "image/png": "[encoded data removed]",
      "text/plain": [
       "<matplotlib.figure.Figure at 0x201eb9516d8>"
      ]
     },
     "metadata": {},
     "output_type": "display_data"
    },
    {
     "data": {
      "text/plain": [
       "<matplotlib.axes._subplots.AxesSubplot at 0x201ebacef60>"
      ]
     },
     "execution_count": 10,
     "metadata": {},
     "output_type": "execute_result"
    },
    {
     "data": {
      "image/png": "[encoded data removed]",
      "text/plain": [
       "<matplotlib.figure.Figure at 0x201eba32550>"
      ]
     },
     "metadata": {},
     "output_type": "display_data"
    }
   ],
   "source": [
    "test_info.label.hist(bins=40)\n",
    "plt.show()\n",
    "train_info.label.hist(bins=40)"
   ]
  },
  {
   "cell_type": "code",
   "execution_count": 11,
   "metadata": {},
   "outputs": [],
   "source": [
    "x_train = train_info[['1Q', '2Q', 'IQR', 'max', 'mean', 'median', 'min', 'skew', 'std']]\n",
    "y_train = train_info['label']\n",
    "x_test = test_info[['1Q', '2Q', 'IQR', 'max', 'mean', 'median', 'min', 'skew', 'std']]\n",
    "y_test = test_info['label']"
   ]
  },
  {
   "cell_type": "code",
   "execution_count": 12,
   "metadata": {},
   "outputs": [],
   "source": [
    "# Feature Scaling\n",
    "from sklearn.preprocessing import StandardScaler\n",
    "sc = StandardScaler()\n",
    "x_train = sc.fit_transform(x_train)\n",
    "x_test = sc.transform(x_test)"
   ]
  },
  {
   "cell_type": "code",
   "execution_count": 15,
   "metadata": {},
   "outputs": [],
   "source": [
    "# KNN\n",
    "from sklearn.neighbors import KNeighborsClassifier\n",
    "knn_classifier = KNeighborsClassifier(weights='distance', n_neighbors=7, metric='minkowski', p=2)\n",
    "knn_classifier.fit(x_train, y_train)\n",
    "y_pred_knn = knn_classifier.predict(x_test)"
   ]
  },
  {
   "cell_type": "code",
   "execution_count": 16,
   "metadata": {},
   "outputs": [],
   "source": [
    "# SVM \n",
    "from sklearn.svm import SVC\n",
    "svc_classifier = SVC(kernel='linear', random_state=RANDOM_SEED)\n",
    "svc_classifier.fit(x_train, y_train)\n",
    "y_pred_svc = svc_classifier.predict(x_test)"
   ]
  },
  {
   "cell_type": "code",
   "execution_count": 24,
   "metadata": {},
   "outputs": [],
   "source": [
    "# Random Forest\n",
    "from sklearn.ensemble import RandomForestClassifier\n",
    "random_forest_classifier = RandomForestClassifier(n_estimators=100, criterion='entropy', random_state=RANDOM_SEED)\n",
    "random_forest_classifier.fit(x_train, y_train)\n",
    "y_pred_rfc = random_forest_classifier.predict(x_test)"
   ]
  },
  {
   "cell_type": "code",
   "execution_count": 13,
   "metadata": {},
   "outputs": [],
   "source": [
    "from sklearn.ensemble import GradientBoostingClassifier\n",
    "gbc = GradientBoostingClassifier(random_state=RANDOM_SEED)\n",
    "gbc.fit(x_train, y_train)\n",
    "y_pred_gbc = gbc.predict(x_test)"
   ]
  },
  {
   "cell_type": "code",
   "execution_count": 22,
   "metadata": {},
   "outputs": [],
   "source": [
    "from sklearn.metrics import accuracy_score as acc\n",
    "acc_knn = acc(y_test, y_pred_knn)\n",
    "acc_svc = acc(y_test, y_pred_svc)\n",
    "acc_rfc = acc(y_test, y_pred_rfc)\n",
    "acc_gbv = acc(y_test, y_pred_gbc)"
   ]
  },
  {
   "cell_type": "code",
   "execution_count": 23,
   "metadata": {},
   "outputs": [
    {
     "data": {
      "text/plain": [
       "(0.19625, 0.141875, 0.24375, 0.253125)"
      ]
     },
     "execution_count": 23,
     "metadata": {},
     "output_type": "execute_result"
    }
   ],
   "source": [
    "acc_knn, acc_svc, acc_rfc, acc_gbv"
   ]
  }
 ],
 "metadata": {
  "kernelspec": {
   "display_name": "Python 3",
   "language": "python",
   "name": "python3"
  },
  "language_info": {
   "codemirror_mode": {
    "name": "ipython",
    "version": 3
   },
   "file_extension": ".py",
   "mimetype": "text/x-python",
   "name": "python",
   "nbconvert_exporter": "python",
   "pygments_lexer": "ipython3",
   "version": "3.6.4"
  }
 },
 "nbformat": 4,
 "nbformat_minor": 2
}
