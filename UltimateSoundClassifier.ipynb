{
 "cells": [
  {
   "cell_type": "code",
   "execution_count": 2,
   "metadata": {},
   "outputs": [],
   "source": [
    "# Importing the libraries we will need throughout the code\n",
    "import pandas as pd\n",
    "import numpy as np\n",
    "import matplotlib.pyplot as plt\n",
    "import seaborn as sns\n",
    "\n",
    "from sklearn.metrics import confusion_matrix\n",
    "from sklearn.metrics import accuracy_score as acc\n",
    "from sklearn.ensemble import RandomForestClassifier\n",
    "from sklearn.neighbors import KNeighborsClassifier\n",
    "from sklearn.ensemble import GradientBoostingClassifier\n",
    "\n",
    "RANDOM_SEED = 42"
   ]
  },
  {
   "cell_type": "markdown",
   "metadata": {},
   "source": [
    "### Importando os DataSets\n",
    "\n",
    "No momento de construção das features, utilizamos dois computadores diferentes, e salvamos as features em dois arquivos separados (um na pasta Henry e um na pasta Vitor). Por isso, precisaremos juntar essas features em um dataframe único.\n",
    "\n",
    "Além disso, uma série de features (informações sobre a Transformada de Fourrier) foram colhidas duas vezes. Por isso também se faz necessário remover uma série de informações."
   ]
  },
  {
   "cell_type": "markdown",
   "metadata": {},
   "source": [
    "##### Dataset de Treino"
   ]
  },
  {
   "cell_type": "code",
   "execution_count": 14,
   "metadata": {},
   "outputs": [
    {
     "data": {
      "text/plain": [
       "Index(['Unnamed: 0', '1Q', '2Q', 'IQR', 'Unnamed: 0.1', 'fpath', 'h1Q', 'h2Q',\n",
       "       'hIQR', 'hmax', 'hmean', 'hmedian', 'hmin', 'hstd', 'htempo', 'label',\n",
       "       'max', 'mean', 'median', 'min', 'p1Q', 'p2Q', 'pIQR', 'pmax', 'pmean',\n",
       "       'pmedian', 'pmin', 'pstd', 'ptempo', 'std', 'tempo'],\n",
       "      dtype='object')"
      ]
     },
     "execution_count": 14,
     "metadata": {},
     "output_type": "execute_result"
    }
   ],
   "source": [
    "vitor_train.columns"
   ]
  },
  {
   "cell_type": "code",
   "execution_count": 15,
   "metadata": {},
   "outputs": [
    {
     "data": {
      "text/html": [
       "<div>\n",
       "<style scoped>\n",
       "    .dataframe tbody tr th:only-of-type {\n",
       "        vertical-align: middle;\n",
       "    }\n",
       "\n",
       "    .dataframe tbody tr th {\n",
       "        vertical-align: top;\n",
       "    }\n",
       "\n",
       "    .dataframe thead th {\n",
       "        text-align: right;\n",
       "    }\n",
       "</style>\n",
       "<table border=\"1\" class=\"dataframe\">\n",
       "  <thead>\n",
       "    <tr style=\"text-align: right;\">\n",
       "      <th></th>\n",
       "      <th>Unnamed: 0</th>\n",
       "      <th>1Q</th>\n",
       "      <th>2Q</th>\n",
       "      <th>IQR</th>\n",
       "      <th>Unnamed: 0.1</th>\n",
       "      <th>fpath</th>\n",
       "      <th>h1Q</th>\n",
       "      <th>h2Q</th>\n",
       "      <th>hIQR</th>\n",
       "      <th>hmax</th>\n",
       "      <th>...</th>\n",
       "      <th>p2Q</th>\n",
       "      <th>pIQR</th>\n",
       "      <th>pmax</th>\n",
       "      <th>pmean</th>\n",
       "      <th>pmedian</th>\n",
       "      <th>pmin</th>\n",
       "      <th>pstd</th>\n",
       "      <th>ptempo</th>\n",
       "      <th>std</th>\n",
       "      <th>tempo</th>\n",
       "    </tr>\n",
       "  </thead>\n",
       "  <tbody>\n",
       "    <tr>\n",
       "      <th>0</th>\n",
       "      <td>0</td>\n",
       "      <td>6.230491</td>\n",
       "      <td>27.272478</td>\n",
       "      <td>21.041986</td>\n",
       "      <td>0.0</td>\n",
       "      <td>00044347.wav</td>\n",
       "      <td>1.821884</td>\n",
       "      <td>16.757354</td>\n",
       "      <td>14.935470</td>\n",
       "      <td>494.158194</td>\n",
       "      <td>...</td>\n",
       "      <td>10.835077</td>\n",
       "      <td>7.138589</td>\n",
       "      <td>141.885020</td>\n",
       "      <td>8.332571</td>\n",
       "      <td>6.609736</td>\n",
       "      <td>0.009260</td>\n",
       "      <td>7.121350</td>\n",
       "      <td>120.185320</td>\n",
       "      <td>34.076773</td>\n",
       "      <td>120.185320</td>\n",
       "    </tr>\n",
       "    <tr>\n",
       "      <th>1</th>\n",
       "      <td>1</td>\n",
       "      <td>5.674157</td>\n",
       "      <td>35.867089</td>\n",
       "      <td>30.192933</td>\n",
       "      <td>1.0</td>\n",
       "      <td>001ca53d.wav</td>\n",
       "      <td>3.443734</td>\n",
       "      <td>32.837873</td>\n",
       "      <td>29.394139</td>\n",
       "      <td>3168.806360</td>\n",
       "      <td>...</td>\n",
       "      <td>7.231589</td>\n",
       "      <td>5.058523</td>\n",
       "      <td>29.293637</td>\n",
       "      <td>5.162963</td>\n",
       "      <td>4.335608</td>\n",
       "      <td>0.002830</td>\n",
       "      <td>3.867669</td>\n",
       "      <td>97.508844</td>\n",
       "      <td>141.165615</td>\n",
       "      <td>97.508844</td>\n",
       "    </tr>\n",
       "    <tr>\n",
       "      <th>2</th>\n",
       "      <td>2</td>\n",
       "      <td>0.012762</td>\n",
       "      <td>0.066496</td>\n",
       "      <td>0.053734</td>\n",
       "      <td>2.0</td>\n",
       "      <td>002d256b.wav</td>\n",
       "      <td>0.002055</td>\n",
       "      <td>0.006511</td>\n",
       "      <td>0.004455</td>\n",
       "      <td>3.861467</td>\n",
       "      <td>...</td>\n",
       "      <td>0.063026</td>\n",
       "      <td>0.051539</td>\n",
       "      <td>3.758787</td>\n",
       "      <td>0.076217</td>\n",
       "      <td>0.027698</td>\n",
       "      <td>0.000198</td>\n",
       "      <td>0.183175</td>\n",
       "      <td>135.999178</td>\n",
       "      <td>0.264248</td>\n",
       "      <td>135.999178</td>\n",
       "    </tr>\n",
       "    <tr>\n",
       "      <th>3</th>\n",
       "      <td>3</td>\n",
       "      <td>0.420803</td>\n",
       "      <td>0.977241</td>\n",
       "      <td>0.556438</td>\n",
       "      <td>3.0</td>\n",
       "      <td>0033e230.wav</td>\n",
       "      <td>0.096151</td>\n",
       "      <td>0.205320</td>\n",
       "      <td>0.109168</td>\n",
       "      <td>787.918924</td>\n",
       "      <td>...</td>\n",
       "      <td>0.930007</td>\n",
       "      <td>0.431827</td>\n",
       "      <td>7.764286</td>\n",
       "      <td>0.772548</td>\n",
       "      <td>0.712938</td>\n",
       "      <td>0.000439</td>\n",
       "      <td>0.704018</td>\n",
       "      <td>139.674831</td>\n",
       "      <td>7.775617</td>\n",
       "      <td>135.999178</td>\n",
       "    </tr>\n",
       "    <tr>\n",
       "      <th>4</th>\n",
       "      <td>4</td>\n",
       "      <td>0.646084</td>\n",
       "      <td>3.692972</td>\n",
       "      <td>3.046888</td>\n",
       "      <td>4.0</td>\n",
       "      <td>00353774.wav</td>\n",
       "      <td>0.254311</td>\n",
       "      <td>1.683002</td>\n",
       "      <td>1.428691</td>\n",
       "      <td>5412.206944</td>\n",
       "      <td>...</td>\n",
       "      <td>1.716842</td>\n",
       "      <td>1.365045</td>\n",
       "      <td>80.081093</td>\n",
       "      <td>1.535181</td>\n",
       "      <td>0.685752</td>\n",
       "      <td>0.001026</td>\n",
       "      <td>2.317918</td>\n",
       "      <td>117.453835</td>\n",
       "      <td>61.102422</td>\n",
       "      <td>117.453835</td>\n",
       "    </tr>\n",
       "  </tbody>\n",
       "</table>\n",
       "<p>5 rows × 31 columns</p>\n",
       "</div>"
      ],
      "text/plain": [
       "   Unnamed: 0        1Q         2Q        IQR  Unnamed: 0.1         fpath  \\\n",
       "0           0  6.230491  27.272478  21.041986           0.0  00044347.wav   \n",
       "1           1  5.674157  35.867089  30.192933           1.0  001ca53d.wav   \n",
       "2           2  0.012762   0.066496   0.053734           2.0  002d256b.wav   \n",
       "3           3  0.420803   0.977241   0.556438           3.0  0033e230.wav   \n",
       "4           4  0.646084   3.692972   3.046888           4.0  00353774.wav   \n",
       "\n",
       "        h1Q        h2Q       hIQR         hmax     ...            p2Q  \\\n",
       "0  1.821884  16.757354  14.935470   494.158194     ...      10.835077   \n",
       "1  3.443734  32.837873  29.394139  3168.806360     ...       7.231589   \n",
       "2  0.002055   0.006511   0.004455     3.861467     ...       0.063026   \n",
       "3  0.096151   0.205320   0.109168   787.918924     ...       0.930007   \n",
       "4  0.254311   1.683002   1.428691  5412.206944     ...       1.716842   \n",
       "\n",
       "       pIQR        pmax     pmean   pmedian      pmin      pstd      ptempo  \\\n",
       "0  7.138589  141.885020  8.332571  6.609736  0.009260  7.121350  120.185320   \n",
       "1  5.058523   29.293637  5.162963  4.335608  0.002830  3.867669   97.508844   \n",
       "2  0.051539    3.758787  0.076217  0.027698  0.000198  0.183175  135.999178   \n",
       "3  0.431827    7.764286  0.772548  0.712938  0.000439  0.704018  139.674831   \n",
       "4  1.365045   80.081093  1.535181  0.685752  0.001026  2.317918  117.453835   \n",
       "\n",
       "          std       tempo  \n",
       "0   34.076773  120.185320  \n",
       "1  141.165615   97.508844  \n",
       "2    0.264248  135.999178  \n",
       "3    7.775617  135.999178  \n",
       "4   61.102422  117.453835  \n",
       "\n",
       "[5 rows x 31 columns]"
      ]
     },
     "execution_count": 15,
     "metadata": {},
     "output_type": "execute_result"
    }
   ],
   "source": [
    "vitor_train.head()"
   ]
  },
  {
   "cell_type": "code",
   "execution_count": 22,
   "metadata": {},
   "outputs": [],
   "source": [
    "vitor_train = pd.read_csv('vitor/working.csv')\n",
    "vitor_train = vitor_train.drop(['Unnamed: 0', 'Unnamed: 0.1'], axis=1)\n",
    "henry_train = pd.read_csv('henry/train_dataset.csv', header=1)\n",
    "henry_train = henry_train.rename(columns={'Unnamed: 0': 'fpath'})\n",
    "n_fpath_vitor = [fpath.replace('audio_train/audio_train/', '') for fpath in vitor_train.fpath]\n",
    "vitor_train.fpath = n_fpath_vitor\n",
    "columns_to_drop = ['1Q', '2Q', 'IQR', 'max', 'mean', 'median', 'min', 'std', 'tempo']\n",
    "vitor_train = vitor_train.drop(columns_to_drop, axis=1)\n",
    "henry_train = henry_train.drop(['filepath', 'label'], axis=1)"
   ]
  },
  {
   "cell_type": "code",
   "execution_count": 26,
   "metadata": {},
   "outputs": [],
   "source": [
    "train = vitor_train.merge(henry_train, how='inner', on='fpath')"
   ]
  },
  {
   "cell_type": "markdown",
   "metadata": {},
   "source": [
    "##### Dataset de Teste"
   ]
  },
  {
   "cell_type": "code",
   "execution_count": 32,
   "metadata": {},
   "outputs": [],
   "source": [
    "vitor_test = pd.read_csv('vitor/test_info.csv')\n",
    "vitor_test = vitor_test.drop(['Unnamed: 0'], axis=1)\n",
    "henry_test = pd.read_csv('henry/test_dataset.csv', header=1)\n",
    "henry_test = henry_test.rename(columns={'Unnamed: 0': 'fpath'})\n",
    "n_fpath_vitor = [fpath.replace('../audio_test/', '') for fpath in vitor_test.fpath]\n",
    "vitor_test.fpath = n_fpath_vitor\n",
    "columns_to_drop = ['1Q', '2Q', 'IQR', 'max', 'mean', 'median', 'min', 'std', 'tempo']\n",
    "vitor_test = vitor_test.drop(columns_to_drop, axis=1)\n",
    "henry_test = henry_test.drop(['filepath', 'label'], axis=1)"
   ]
  },
  {
   "cell_type": "code",
   "execution_count": 33,
   "metadata": {},
   "outputs": [],
   "source": [
    "test = vitor_test.merge(henry_test, how='inner', on='fpath')"
   ]
  },
  {
   "cell_type": "markdown",
   "metadata": {},
   "source": [
    "#### Modelo Iniciais"
   ]
  },
  {
   "cell_type": "code",
   "execution_count": 39,
   "metadata": {},
   "outputs": [],
   "source": [
    "columns_on_df = list(test.columns)\n",
    "columns_on_df\n",
    "x_columns = columns_on_df\n",
    "x_columns.remove('fpath')\n",
    "x_columns.remove('label')"
   ]
  },
  {
   "cell_type": "code",
   "execution_count": 41,
   "metadata": {},
   "outputs": [],
   "source": [
    "# Getting Train and Test data\n",
    "x_train = train[x_columns]\n",
    "y_train = train['label']\n",
    "x_test = test[x_columns]\n",
    "y_test = test['label']"
   ]
  },
  {
   "cell_type": "code",
   "execution_count": 43,
   "metadata": {},
   "outputs": [],
   "source": [
    "# Feature Scalling the data\n",
    "from sklearn.preprocessing import StandardScaler\n",
    "sc = StandardScaler()\n",
    "x_train = sc.fit_transform(x_train)\n",
    "x_test = sc.transform(x_test)"
   ]
  },
  {
   "cell_type": "code",
   "execution_count": 52,
   "metadata": {},
   "outputs": [],
   "source": [
    "# Creating our Models\n",
    "knn_model = KNeighborsClassifier(n_neighbors=10, weights='distance')\n",
    "rf_model = RandomForestClassifier(n_estimators=100, random_state=RANDOM_SEED)\n",
    "gb_model = GradientBoostingClassifier(random_state=RANDOM_SEED)"
   ]
  },
  {
   "cell_type": "code",
   "execution_count": 53,
   "metadata": {},
   "outputs": [
    {
     "data": {
      "text/plain": [
       "GradientBoostingClassifier(criterion='friedman_mse', init=None,\n",
       "              learning_rate=0.1, loss='deviance', max_depth=3,\n",
       "              max_features=None, max_leaf_nodes=None,\n",
       "              min_impurity_decrease=0.0, min_impurity_split=None,\n",
       "              min_samples_leaf=1, min_samples_split=2,\n",
       "              min_weight_fraction_leaf=0.0, n_estimators=100,\n",
       "              presort='auto', random_state=42, subsample=1.0, verbose=0,\n",
       "              warm_start=False)"
      ]
     },
     "execution_count": 53,
     "metadata": {},
     "output_type": "execute_result"
    }
   ],
   "source": [
    "# Fitting the Models\n",
    "knn_model.fit(x_train, y_train)\n",
    "rf_model.fit(x_train, y_train)\n",
    "gb_model.fit(x_train, y_train)"
   ]
  },
  {
   "cell_type": "code",
   "execution_count": 54,
   "metadata": {},
   "outputs": [],
   "source": [
    "# Predicting the Categories\n",
    "y_knn = knn_model.predict(x_test)\n",
    "y_rf = rf_model.predict(x_test)\n",
    "y_gb = gb_model.predict(x_test)"
   ]
  },
  {
   "cell_type": "code",
   "execution_count": 56,
   "metadata": {},
   "outputs": [],
   "source": [
    "# Getting Accuracy\n",
    "knn_acc = acc(y_test, y_knn)\n",
    "rf_acc = acc(y_test, y_rf)\n",
    "gb_acc = acc(y_test, y_gb)"
   ]
  },
  {
   "cell_type": "code",
   "execution_count": 57,
   "metadata": {},
   "outputs": [
    {
     "data": {
      "text/plain": [
       "(0.4, 0.536875, 0.459375)"
      ]
     },
     "execution_count": 57,
     "metadata": {},
     "output_type": "execute_result"
    }
   ],
   "source": [
    "knn_acc, rf_acc, gb_acc"
   ]
  },
  {
   "cell_type": "code",
   "execution_count": 58,
   "metadata": {},
   "outputs": [
    {
     "data": {
      "text/plain": [
       "array([0.01759447, 0.01687904, 0.01734185, 0.02135264, 0.01646443,\n",
       "       0.01595739, 0.01677577, 0.0184353 , 0.01530938, 0.01764033,\n",
       "       0.01556924, 0.01652948, 0.02561075, 0.0207645 , 0.01639304,\n",
       "       0.01511601, 0.0250867 , 0.01662588, 0.01645119, 0.01500338,\n",
       "       0.01498774, 0.01997226, 0.01404006, 0.01461869, 0.01451377,\n",
       "       0.0165739 , 0.03012101, 0.0209563 , 0.01931265, 0.02135256,\n",
       "       0.0228187 , 0.0243321 , 0.03179025, 0.02254543, 0.02997642,\n",
       "       0.02514545, 0.02254187, 0.01797004, 0.02324065, 0.02841772,\n",
       "       0.02161909, 0.02268544, 0.02607816, 0.01766764, 0.01654813,\n",
       "       0.01848837, 0.01824974, 0.02074193, 0.02669386, 0.01909929])"
      ]
     },
     "execution_count": 58,
     "metadata": {},
     "output_type": "execute_result"
    }
   ],
   "source": [
    "rf_model.feature_importances_"
   ]
  }
 ],
 "metadata": {
  "kernelspec": {
   "display_name": "Python 3",
   "language": "python",
   "name": "python3"
  },
  "language_info": {
   "codemirror_mode": {
    "name": "ipython",
    "version": 3
   },
   "file_extension": ".py",
   "mimetype": "text/x-python",
   "name": "python",
   "nbconvert_exporter": "python",
   "pygments_lexer": "ipython3",
   "version": "3.6.4"
  }
 },
 "nbformat": 4,
 "nbformat_minor": 2
}
