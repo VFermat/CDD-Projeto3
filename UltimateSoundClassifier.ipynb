{
 "cells": [
  {
   "cell_type": "code",
   "execution_count": 30,
   "metadata": {},
   "outputs": [],
   "source": [
    "# Importing the libraries we will need throughout the code\n",
    "import pandas as pd\n",
    "import numpy as np\n",
    "import matplotlib.pyplot as plt\n",
    "import seaborn as sns\n",
    "\n",
    "from sklearn.metrics import confusion_matrix\n",
    "from sklearn.metrics import accuracy_score as acc\n",
    "from sklearn.ensemble import RandomForestClassifier\n",
    "from sklearn.neighbors import KNeighborsClassifier\n",
    "from sklearn.ensemble import GradientBoostingClassifier\n",
    "\n",
    "\n",
    "RANDOM_SEED = 42"
   ]
  },
  {
   "cell_type": "markdown",
   "metadata": {},
   "source": [
    "### Importando os DataSets\n",
    "\n",
    "No momento de construção das features, utilizamos dois computadores diferentes, e salvamos as features em dois arquivos separados (um na pasta Henry e um na pasta Vitor). Por isso, precisaremos juntar essas features em um dataframe único.\n",
    "\n",
    "Além disso, uma série de features (informações sobre a Transformada de Fourrier) foram colhidas duas vezes. Por isso também se faz necessário remover uma série de informações."
   ]
  },
  {
   "cell_type": "markdown",
   "metadata": {},
   "source": [
    "##### Dataset de Treino"
   ]
  },
  {
   "cell_type": "code",
   "execution_count": 31,
   "metadata": {},
   "outputs": [],
   "source": [
    "vitor_train = pd.read_csv('vitor/working.csv')\n",
    "vitor_train = vitor_train.drop(['Unnamed: 0', 'Unnamed: 0.1'], axis=1)\n",
    "henry_train = pd.read_csv('henry/train_dataset.csv', header=1)\n",
    "henry_train = henry_train.rename(columns={'Unnamed: 0': 'fpath'})\n",
    "n_fpath_vitor = [fpath.replace('audio_train/audio_train/', '') for fpath in vitor_train.fpath]\n",
    "vitor_train.fpath = n_fpath_vitor\n",
    "columns_to_drop = ['1Q', '2Q', 'IQR', 'max', 'mean', 'median', 'min', 'std', 'tempo']\n",
    "vitor_train = vitor_train.drop(columns_to_drop, axis=1)\n",
    "henry_train = henry_train.drop(['filepath', 'label'], axis=1)"
   ]
  },
  {
   "cell_type": "code",
   "execution_count": 32,
   "metadata": {},
   "outputs": [],
   "source": [
    "train = vitor_train.merge(henry_train, how='inner', on='fpath')"
   ]
  },
  {
   "cell_type": "markdown",
   "metadata": {},
   "source": [
    "##### Dataset de Teste"
   ]
  },
  {
   "cell_type": "code",
   "execution_count": 33,
   "metadata": {},
   "outputs": [],
   "source": [
    "vitor_test = pd.read_csv('vitor/test_info.csv')\n",
    "vitor_test = vitor_test.drop(['Unnamed: 0'], axis=1)\n",
    "henry_test = pd.read_csv('henry/test_dataset.csv', header=1)\n",
    "henry_test = henry_test.rename(columns={'Unnamed: 0': 'fpath'})\n",
    "n_fpath_vitor = [fpath.replace('../audio_test/', '') for fpath in vitor_test.fpath]\n",
    "vitor_test.fpath = n_fpath_vitor\n",
    "columns_to_drop = ['1Q', '2Q', 'IQR', 'max', 'mean', 'median', 'min', 'std', 'tempo']\n",
    "vitor_test = vitor_test.drop(columns_to_drop, axis=1)\n",
    "henry_test = henry_test.drop(['filepath', 'label'], axis=1)"
   ]
  },
  {
   "cell_type": "code",
   "execution_count": 34,
   "metadata": {},
   "outputs": [],
   "source": [
    "test = vitor_test.merge(henry_test, how='inner', on='fpath')"
   ]
  },
  {
   "cell_type": "markdown",
   "metadata": {},
   "source": [
    "### Features "
   ]
  },
  {
   "cell_type": "code",
   "execution_count": 71,
   "metadata": {},
   "outputs": [
    {
     "data": {
      "text/html": [
       "<div>\n",
       "<style scoped>\n",
       "    .dataframe tbody tr th:only-of-type {\n",
       "        vertical-align: middle;\n",
       "    }\n",
       "\n",
       "    .dataframe tbody tr th {\n",
       "        vertical-align: top;\n",
       "    }\n",
       "\n",
       "    .dataframe thead th {\n",
       "        text-align: right;\n",
       "    }\n",
       "</style>\n",
       "<table border=\"1\" class=\"dataframe\">\n",
       "  <thead>\n",
       "    <tr style=\"text-align: right;\">\n",
       "      <th></th>\n",
       "      <th>fpath</th>\n",
       "      <th>h1Q</th>\n",
       "      <th>h2Q</th>\n",
       "      <th>hIQR</th>\n",
       "      <th>hmax</th>\n",
       "      <th>hmean</th>\n",
       "      <th>hmedian</th>\n",
       "      <th>hmin</th>\n",
       "      <th>hstd</th>\n",
       "      <th>htempo</th>\n",
       "      <th>...</th>\n",
       "      <th>SContr_min</th>\n",
       "      <th>SContr_std</th>\n",
       "      <th>SF_1Q</th>\n",
       "      <th>SF_2Q</th>\n",
       "      <th>SF_IQR</th>\n",
       "      <th>SF_max</th>\n",
       "      <th>SF_mean</th>\n",
       "      <th>SF_median</th>\n",
       "      <th>SF_min</th>\n",
       "      <th>SF_std</th>\n",
       "    </tr>\n",
       "  </thead>\n",
       "  <tbody>\n",
       "    <tr>\n",
       "      <th>0</th>\n",
       "      <td>00326aa9.wav</td>\n",
       "      <td>0.006032</td>\n",
       "      <td>0.035576</td>\n",
       "      <td>0.029545</td>\n",
       "      <td>7401.113420</td>\n",
       "      <td>1.322456</td>\n",
       "      <td>0.011697</td>\n",
       "      <td>0.000048</td>\n",
       "      <td>55.143729</td>\n",
       "      <td>161.499023</td>\n",
       "      <td>...</td>\n",
       "      <td>3.052424</td>\n",
       "      <td>10.408681</td>\n",
       "      <td>3.996415e-07</td>\n",
       "      <td>0.007290</td>\n",
       "      <td>0.007290</td>\n",
       "      <td>0.035315</td>\n",
       "      <td>0.004633</td>\n",
       "      <td>0.000043</td>\n",
       "      <td>3.251706e-07</td>\n",
       "      <td>0.006985</td>\n",
       "    </tr>\n",
       "    <tr>\n",
       "      <th>1</th>\n",
       "      <td>0038a046.wav</td>\n",
       "      <td>0.008532</td>\n",
       "      <td>0.051157</td>\n",
       "      <td>0.042625</td>\n",
       "      <td>324.037334</td>\n",
       "      <td>1.238900</td>\n",
       "      <td>0.015763</td>\n",
       "      <td>0.000062</td>\n",
       "      <td>13.658693</td>\n",
       "      <td>143.554688</td>\n",
       "      <td>...</td>\n",
       "      <td>2.013742</td>\n",
       "      <td>3.773490</td>\n",
       "      <td>6.232203e-04</td>\n",
       "      <td>0.201938</td>\n",
       "      <td>0.201314</td>\n",
       "      <td>0.497214</td>\n",
       "      <td>0.109013</td>\n",
       "      <td>0.028249</td>\n",
       "      <td>2.808092e-07</td>\n",
       "      <td>0.142343</td>\n",
       "    </tr>\n",
       "    <tr>\n",
       "      <th>2</th>\n",
       "      <td>007759c4.wav</td>\n",
       "      <td>0.090394</td>\n",
       "      <td>0.594547</td>\n",
       "      <td>0.504153</td>\n",
       "      <td>4828.572995</td>\n",
       "      <td>2.857105</td>\n",
       "      <td>0.217254</td>\n",
       "      <td>0.000619</td>\n",
       "      <td>50.367111</td>\n",
       "      <td>120.185320</td>\n",
       "      <td>...</td>\n",
       "      <td>2.768268</td>\n",
       "      <td>7.771623</td>\n",
       "      <td>2.650683e-05</td>\n",
       "      <td>0.000058</td>\n",
       "      <td>0.000032</td>\n",
       "      <td>0.024345</td>\n",
       "      <td>0.000480</td>\n",
       "      <td>0.000040</td>\n",
       "      <td>1.186926e-05</td>\n",
       "      <td>0.002464</td>\n",
       "    </tr>\n",
       "  </tbody>\n",
       "</table>\n",
       "<p>3 rows × 52 columns</p>\n",
       "</div>"
      ],
      "text/plain": [
       "          fpath       h1Q       h2Q      hIQR         hmax     hmean  \\\n",
       "0  00326aa9.wav  0.006032  0.035576  0.029545  7401.113420  1.322456   \n",
       "1  0038a046.wav  0.008532  0.051157  0.042625   324.037334  1.238900   \n",
       "2  007759c4.wav  0.090394  0.594547  0.504153  4828.572995  2.857105   \n",
       "\n",
       "    hmedian      hmin       hstd      htempo    ...    SContr_min  SContr_std  \\\n",
       "0  0.011697  0.000048  55.143729  161.499023    ...      3.052424   10.408681   \n",
       "1  0.015763  0.000062  13.658693  143.554688    ...      2.013742    3.773490   \n",
       "2  0.217254  0.000619  50.367111  120.185320    ...      2.768268    7.771623   \n",
       "\n",
       "          SF_1Q     SF_2Q    SF_IQR    SF_max   SF_mean  SF_median  \\\n",
       "0  3.996415e-07  0.007290  0.007290  0.035315  0.004633   0.000043   \n",
       "1  6.232203e-04  0.201938  0.201314  0.497214  0.109013   0.028249   \n",
       "2  2.650683e-05  0.000058  0.000032  0.024345  0.000480   0.000040   \n",
       "\n",
       "         SF_min    SF_std  \n",
       "0  3.251706e-07  0.006985  \n",
       "1  2.808092e-07  0.142343  \n",
       "2  1.186926e-05  0.002464  \n",
       "\n",
       "[3 rows x 52 columns]"
      ]
     },
     "execution_count": 71,
     "metadata": {},
     "output_type": "execute_result"
    }
   ],
   "source": [
    "test.head(3)"
   ]
  },
  {
   "cell_type": "code",
   "execution_count": 35,
   "metadata": {},
   "outputs": [],
   "source": [
    "features = train.drop(['label', 'fpath'], axis=1)\n",
    "harmonic_features = features.loc[:, features.columns.str.contains('h')]\n",
    "percussion_features = features.loc[:, features.columns.str.contains('p')].drop('htempo', axis=1)\n",
    "short_furrier_features = features.loc[:, features.columns.str.contains('SF')]\n",
    "furrier_features = features.loc[:, features.columns.str.contains('F')].drop(short_furrier_features.columns, axis=1)\n",
    "sc_features = features.loc[:, features.columns.str.contains('SC_')]\n",
    "scontr_features = features.loc[:, features.columns.str.contains('SContr_')]"
   ]
  },
  {
   "cell_type": "markdown",
   "metadata": {},
   "source": [
    "##### Features da Transformada de Fourrier nas Harmônicas do Áudio"
   ]
  },
  {
   "cell_type": "code",
   "execution_count": 36,
   "metadata": {},
   "outputs": [
    {
     "data": {
      "text/html": [
       "<div>\n",
       "<style scoped>\n",
       "    .dataframe tbody tr th:only-of-type {\n",
       "        vertical-align: middle;\n",
       "    }\n",
       "\n",
       "    .dataframe tbody tr th {\n",
       "        vertical-align: top;\n",
       "    }\n",
       "\n",
       "    .dataframe thead th {\n",
       "        text-align: right;\n",
       "    }\n",
       "</style>\n",
       "<table border=\"1\" class=\"dataframe\">\n",
       "  <thead>\n",
       "    <tr style=\"text-align: right;\">\n",
       "      <th></th>\n",
       "      <th>h1Q</th>\n",
       "      <th>h2Q</th>\n",
       "      <th>hIQR</th>\n",
       "      <th>hmax</th>\n",
       "      <th>hmean</th>\n",
       "      <th>hmedian</th>\n",
       "      <th>hmin</th>\n",
       "      <th>hstd</th>\n",
       "      <th>htempo</th>\n",
       "    </tr>\n",
       "  </thead>\n",
       "  <tbody>\n",
       "    <tr>\n",
       "      <th>count</th>\n",
       "      <td>2774.000000</td>\n",
       "      <td>2774.000000</td>\n",
       "      <td>2774.000000</td>\n",
       "      <td>2774.000000</td>\n",
       "      <td>2774.000000</td>\n",
       "      <td>2774.000000</td>\n",
       "      <td>2774.000000</td>\n",
       "      <td>2774.000000</td>\n",
       "      <td>2774.000000</td>\n",
       "    </tr>\n",
       "    <tr>\n",
       "      <th>mean</th>\n",
       "      <td>2.285788</td>\n",
       "      <td>11.765830</td>\n",
       "      <td>9.480041</td>\n",
       "      <td>2619.229788</td>\n",
       "      <td>14.055525</td>\n",
       "      <td>5.110358</td>\n",
       "      <td>0.010180</td>\n",
       "      <td>50.388575</td>\n",
       "      <td>138.137611</td>\n",
       "    </tr>\n",
       "    <tr>\n",
       "      <th>std</th>\n",
       "      <td>7.912372</td>\n",
       "      <td>39.039777</td>\n",
       "      <td>33.318640</td>\n",
       "      <td>7071.871671</td>\n",
       "      <td>32.163496</td>\n",
       "      <td>19.331109</td>\n",
       "      <td>0.042831</td>\n",
       "      <td>86.037541</td>\n",
       "      <td>31.802837</td>\n",
       "    </tr>\n",
       "    <tr>\n",
       "      <th>min</th>\n",
       "      <td>0.001221</td>\n",
       "      <td>0.003282</td>\n",
       "      <td>0.002062</td>\n",
       "      <td>0.160836</td>\n",
       "      <td>0.004886</td>\n",
       "      <td>0.002027</td>\n",
       "      <td>0.000003</td>\n",
       "      <td>0.007558</td>\n",
       "      <td>23.598031</td>\n",
       "    </tr>\n",
       "    <tr>\n",
       "      <th>25%</th>\n",
       "      <td>0.025458</td>\n",
       "      <td>0.243880</td>\n",
       "      <td>0.205723</td>\n",
       "      <td>134.674744</td>\n",
       "      <td>0.990574</td>\n",
       "      <td>0.071147</td>\n",
       "      <td>0.000134</td>\n",
       "      <td>4.686215</td>\n",
       "      <td>123.046875</td>\n",
       "    </tr>\n",
       "    <tr>\n",
       "      <th>50%</th>\n",
       "      <td>0.159787</td>\n",
       "      <td>1.285306</td>\n",
       "      <td>1.114600</td>\n",
       "      <td>592.515769</td>\n",
       "      <td>3.425645</td>\n",
       "      <td>0.422419</td>\n",
       "      <td>0.000758</td>\n",
       "      <td>18.110632</td>\n",
       "      <td>129.199219</td>\n",
       "    </tr>\n",
       "    <tr>\n",
       "      <th>75%</th>\n",
       "      <td>1.036348</td>\n",
       "      <td>6.878079</td>\n",
       "      <td>5.594942</td>\n",
       "      <td>2409.412218</td>\n",
       "      <td>12.542872</td>\n",
       "      <td>2.506443</td>\n",
       "      <td>0.004059</td>\n",
       "      <td>56.990626</td>\n",
       "      <td>139.674831</td>\n",
       "    </tr>\n",
       "    <tr>\n",
       "      <th>max</th>\n",
       "      <td>116.808253</td>\n",
       "      <td>1108.780672</td>\n",
       "      <td>1107.949349</td>\n",
       "      <td>195925.092642</td>\n",
       "      <td>662.546944</td>\n",
       "      <td>596.668020</td>\n",
       "      <td>1.030636</td>\n",
       "      <td>1180.335435</td>\n",
       "      <td>303.998162</td>\n",
       "    </tr>\n",
       "  </tbody>\n",
       "</table>\n",
       "</div>"
      ],
      "text/plain": [
       "               h1Q          h2Q         hIQR           hmax        hmean  \\\n",
       "count  2774.000000  2774.000000  2774.000000    2774.000000  2774.000000   \n",
       "mean      2.285788    11.765830     9.480041    2619.229788    14.055525   \n",
       "std       7.912372    39.039777    33.318640    7071.871671    32.163496   \n",
       "min       0.001221     0.003282     0.002062       0.160836     0.004886   \n",
       "25%       0.025458     0.243880     0.205723     134.674744     0.990574   \n",
       "50%       0.159787     1.285306     1.114600     592.515769     3.425645   \n",
       "75%       1.036348     6.878079     5.594942    2409.412218    12.542872   \n",
       "max     116.808253  1108.780672  1107.949349  195925.092642   662.546944   \n",
       "\n",
       "           hmedian         hmin         hstd       htempo  \n",
       "count  2774.000000  2774.000000  2774.000000  2774.000000  \n",
       "mean      5.110358     0.010180    50.388575   138.137611  \n",
       "std      19.331109     0.042831    86.037541    31.802837  \n",
       "min       0.002027     0.000003     0.007558    23.598031  \n",
       "25%       0.071147     0.000134     4.686215   123.046875  \n",
       "50%       0.422419     0.000758    18.110632   129.199219  \n",
       "75%       2.506443     0.004059    56.990626   139.674831  \n",
       "max     596.668020     1.030636  1180.335435   303.998162  "
      ]
     },
     "execution_count": 36,
     "metadata": {},
     "output_type": "execute_result"
    }
   ],
   "source": [
    "harmonic_features.describe()"
   ]
  },
  {
   "cell_type": "markdown",
   "metadata": {},
   "source": [
    "##### Features da Transformada de Fourier nas Percussões do Áudio"
   ]
  },
  {
   "cell_type": "code",
   "execution_count": 37,
   "metadata": {},
   "outputs": [
    {
     "data": {
      "text/html": [
       "<div>\n",
       "<style scoped>\n",
       "    .dataframe tbody tr th:only-of-type {\n",
       "        vertical-align: middle;\n",
       "    }\n",
       "\n",
       "    .dataframe tbody tr th {\n",
       "        vertical-align: top;\n",
       "    }\n",
       "\n",
       "    .dataframe thead th {\n",
       "        text-align: right;\n",
       "    }\n",
       "</style>\n",
       "<table border=\"1\" class=\"dataframe\">\n",
       "  <thead>\n",
       "    <tr style=\"text-align: right;\">\n",
       "      <th></th>\n",
       "      <th>p1Q</th>\n",
       "      <th>p2Q</th>\n",
       "      <th>pIQR</th>\n",
       "      <th>pmax</th>\n",
       "      <th>pmean</th>\n",
       "      <th>pmedian</th>\n",
       "      <th>pmin</th>\n",
       "      <th>pstd</th>\n",
       "      <th>ptempo</th>\n",
       "    </tr>\n",
       "  </thead>\n",
       "  <tbody>\n",
       "    <tr>\n",
       "      <th>count</th>\n",
       "      <td>2774.000000</td>\n",
       "      <td>2774.000000</td>\n",
       "      <td>2774.000000</td>\n",
       "      <td>2774.000000</td>\n",
       "      <td>2774.000000</td>\n",
       "      <td>2774.000000</td>\n",
       "      <td>2774.000000</td>\n",
       "      <td>2774.000000</td>\n",
       "      <td>2774.000000</td>\n",
       "    </tr>\n",
       "    <tr>\n",
       "      <th>mean</th>\n",
       "      <td>4.359216</td>\n",
       "      <td>15.272841</td>\n",
       "      <td>10.913625</td>\n",
       "      <td>263.146923</td>\n",
       "      <td>12.701923</td>\n",
       "      <td>8.169464</td>\n",
       "      <td>0.026480</td>\n",
       "      <td>15.673715</td>\n",
       "      <td>141.623786</td>\n",
       "    </tr>\n",
       "    <tr>\n",
       "      <th>std</th>\n",
       "      <td>12.301142</td>\n",
       "      <td>36.387465</td>\n",
       "      <td>24.668795</td>\n",
       "      <td>620.849598</td>\n",
       "      <td>27.878304</td>\n",
       "      <td>21.561531</td>\n",
       "      <td>0.084419</td>\n",
       "      <td>27.408017</td>\n",
       "      <td>40.209930</td>\n",
       "    </tr>\n",
       "    <tr>\n",
       "      <th>min</th>\n",
       "      <td>0.001988</td>\n",
       "      <td>0.004899</td>\n",
       "      <td>0.002831</td>\n",
       "      <td>0.106350</td>\n",
       "      <td>0.004203</td>\n",
       "      <td>0.003127</td>\n",
       "      <td>0.000003</td>\n",
       "      <td>0.004180</td>\n",
       "      <td>23.598031</td>\n",
       "    </tr>\n",
       "    <tr>\n",
       "      <th>25%</th>\n",
       "      <td>0.093099</td>\n",
       "      <td>0.859102</td>\n",
       "      <td>0.703279</td>\n",
       "      <td>28.354058</td>\n",
       "      <td>1.239088</td>\n",
       "      <td>0.274267</td>\n",
       "      <td>0.000446</td>\n",
       "      <td>2.348618</td>\n",
       "      <td>120.185320</td>\n",
       "    </tr>\n",
       "    <tr>\n",
       "      <th>50%</th>\n",
       "      <td>0.592364</td>\n",
       "      <td>3.714990</td>\n",
       "      <td>3.013048</td>\n",
       "      <td>99.129714</td>\n",
       "      <td>3.772901</td>\n",
       "      <td>1.436124</td>\n",
       "      <td>0.002985</td>\n",
       "      <td>6.890336</td>\n",
       "      <td>129.199219</td>\n",
       "    </tr>\n",
       "    <tr>\n",
       "      <th>75%</th>\n",
       "      <td>3.039279</td>\n",
       "      <td>13.048500</td>\n",
       "      <td>9.795101</td>\n",
       "      <td>269.318013</td>\n",
       "      <td>11.506003</td>\n",
       "      <td>6.380578</td>\n",
       "      <td>0.016241</td>\n",
       "      <td>16.991519</td>\n",
       "      <td>147.656250</td>\n",
       "    </tr>\n",
       "    <tr>\n",
       "      <th>max</th>\n",
       "      <td>237.000946</td>\n",
       "      <td>574.107679</td>\n",
       "      <td>359.026528</td>\n",
       "      <td>10714.446591</td>\n",
       "      <td>447.442215</td>\n",
       "      <td>380.539397</td>\n",
       "      <td>1.885057</td>\n",
       "      <td>377.749889</td>\n",
       "      <td>303.998162</td>\n",
       "    </tr>\n",
       "  </tbody>\n",
       "</table>\n",
       "</div>"
      ],
      "text/plain": [
       "               p1Q          p2Q         pIQR          pmax        pmean  \\\n",
       "count  2774.000000  2774.000000  2774.000000   2774.000000  2774.000000   \n",
       "mean      4.359216    15.272841    10.913625    263.146923    12.701923   \n",
       "std      12.301142    36.387465    24.668795    620.849598    27.878304   \n",
       "min       0.001988     0.004899     0.002831      0.106350     0.004203   \n",
       "25%       0.093099     0.859102     0.703279     28.354058     1.239088   \n",
       "50%       0.592364     3.714990     3.013048     99.129714     3.772901   \n",
       "75%       3.039279    13.048500     9.795101    269.318013    11.506003   \n",
       "max     237.000946   574.107679   359.026528  10714.446591   447.442215   \n",
       "\n",
       "           pmedian         pmin         pstd       ptempo  \n",
       "count  2774.000000  2774.000000  2774.000000  2774.000000  \n",
       "mean      8.169464     0.026480    15.673715   141.623786  \n",
       "std      21.561531     0.084419    27.408017    40.209930  \n",
       "min       0.003127     0.000003     0.004180    23.598031  \n",
       "25%       0.274267     0.000446     2.348618   120.185320  \n",
       "50%       1.436124     0.002985     6.890336   129.199219  \n",
       "75%       6.380578     0.016241    16.991519   147.656250  \n",
       "max     380.539397     1.885057   377.749889   303.998162  "
      ]
     },
     "execution_count": 37,
     "metadata": {},
     "output_type": "execute_result"
    }
   ],
   "source": [
    "percussion_features.describe()"
   ]
  },
  {
   "cell_type": "markdown",
   "metadata": {},
   "source": [
    "##### Features da Transformada Curta de Fourier"
   ]
  },
  {
   "cell_type": "code",
   "execution_count": 38,
   "metadata": {},
   "outputs": [
    {
     "data": {
      "text/html": [
       "<div>\n",
       "<style scoped>\n",
       "    .dataframe tbody tr th:only-of-type {\n",
       "        vertical-align: middle;\n",
       "    }\n",
       "\n",
       "    .dataframe tbody tr th {\n",
       "        vertical-align: top;\n",
       "    }\n",
       "\n",
       "    .dataframe thead th {\n",
       "        text-align: right;\n",
       "    }\n",
       "</style>\n",
       "<table border=\"1\" class=\"dataframe\">\n",
       "  <thead>\n",
       "    <tr style=\"text-align: right;\">\n",
       "      <th></th>\n",
       "      <th>SF_1Q</th>\n",
       "      <th>SF_2Q</th>\n",
       "      <th>SF_IQR</th>\n",
       "      <th>SF_max</th>\n",
       "      <th>SF_mean</th>\n",
       "      <th>SF_median</th>\n",
       "      <th>SF_min</th>\n",
       "      <th>SF_std</th>\n",
       "    </tr>\n",
       "  </thead>\n",
       "  <tbody>\n",
       "    <tr>\n",
       "      <th>count</th>\n",
       "      <td>2.774000e+03</td>\n",
       "      <td>2.774000e+03</td>\n",
       "      <td>2.774000e+03</td>\n",
       "      <td>2774.000000</td>\n",
       "      <td>2.774000e+03</td>\n",
       "      <td>2.774000e+03</td>\n",
       "      <td>2.774000e+03</td>\n",
       "      <td>2774.000000</td>\n",
       "    </tr>\n",
       "    <tr>\n",
       "      <th>mean</th>\n",
       "      <td>1.480323e-02</td>\n",
       "      <td>6.422325e-02</td>\n",
       "      <td>4.942002e-02</td>\n",
       "      <td>0.237093</td>\n",
       "      <td>4.545938e-02</td>\n",
       "      <td>3.377064e-02</td>\n",
       "      <td>2.723128e-03</td>\n",
       "      <td>0.048135</td>\n",
       "    </tr>\n",
       "    <tr>\n",
       "      <th>std</th>\n",
       "      <td>4.887828e-02</td>\n",
       "      <td>1.185031e-01</td>\n",
       "      <td>9.868687e-02</td>\n",
       "      <td>0.179009</td>\n",
       "      <td>7.337304e-02</td>\n",
       "      <td>8.365655e-02</td>\n",
       "      <td>1.235728e-02</td>\n",
       "      <td>0.053721</td>\n",
       "    </tr>\n",
       "    <tr>\n",
       "      <th>min</th>\n",
       "      <td>2.473097e-09</td>\n",
       "      <td>4.565545e-09</td>\n",
       "      <td>3.635068e-10</td>\n",
       "      <td>0.000033</td>\n",
       "      <td>2.260838e-07</td>\n",
       "      <td>3.242665e-09</td>\n",
       "      <td>2.070149e-09</td>\n",
       "      <td>0.000003</td>\n",
       "    </tr>\n",
       "    <tr>\n",
       "      <th>25%</th>\n",
       "      <td>2.574683e-05</td>\n",
       "      <td>4.663606e-04</td>\n",
       "      <td>3.761954e-04</td>\n",
       "      <td>0.052403</td>\n",
       "      <td>2.250917e-03</td>\n",
       "      <td>9.136331e-05</td>\n",
       "      <td>3.378250e-06</td>\n",
       "      <td>0.006057</td>\n",
       "    </tr>\n",
       "    <tr>\n",
       "      <th>50%</th>\n",
       "      <td>3.841768e-04</td>\n",
       "      <td>6.402018e-03</td>\n",
       "      <td>5.090924e-03</td>\n",
       "      <td>0.229063</td>\n",
       "      <td>1.166389e-02</td>\n",
       "      <td>1.365362e-03</td>\n",
       "      <td>3.006935e-05</td>\n",
       "      <td>0.024899</td>\n",
       "    </tr>\n",
       "    <tr>\n",
       "      <th>75%</th>\n",
       "      <td>4.855565e-03</td>\n",
       "      <td>5.524477e-02</td>\n",
       "      <td>4.024616e-02</td>\n",
       "      <td>0.419031</td>\n",
       "      <td>5.259786e-02</td>\n",
       "      <td>1.650730e-02</td>\n",
       "      <td>3.486461e-04</td>\n",
       "      <td>0.072655</td>\n",
       "    </tr>\n",
       "    <tr>\n",
       "      <th>max</th>\n",
       "      <td>4.223041e-01</td>\n",
       "      <td>5.201777e-01</td>\n",
       "      <td>5.156225e-01</td>\n",
       "      <td>0.894080</td>\n",
       "      <td>3.797287e-01</td>\n",
       "      <td>4.429165e-01</td>\n",
       "      <td>2.185830e-01</td>\n",
       "      <td>0.244990</td>\n",
       "    </tr>\n",
       "  </tbody>\n",
       "</table>\n",
       "</div>"
      ],
      "text/plain": [
       "              SF_1Q         SF_2Q        SF_IQR       SF_max       SF_mean  \\\n",
       "count  2.774000e+03  2.774000e+03  2.774000e+03  2774.000000  2.774000e+03   \n",
       "mean   1.480323e-02  6.422325e-02  4.942002e-02     0.237093  4.545938e-02   \n",
       "std    4.887828e-02  1.185031e-01  9.868687e-02     0.179009  7.337304e-02   \n",
       "min    2.473097e-09  4.565545e-09  3.635068e-10     0.000033  2.260838e-07   \n",
       "25%    2.574683e-05  4.663606e-04  3.761954e-04     0.052403  2.250917e-03   \n",
       "50%    3.841768e-04  6.402018e-03  5.090924e-03     0.229063  1.166389e-02   \n",
       "75%    4.855565e-03  5.524477e-02  4.024616e-02     0.419031  5.259786e-02   \n",
       "max    4.223041e-01  5.201777e-01  5.156225e-01     0.894080  3.797287e-01   \n",
       "\n",
       "          SF_median        SF_min       SF_std  \n",
       "count  2.774000e+03  2.774000e+03  2774.000000  \n",
       "mean   3.377064e-02  2.723128e-03     0.048135  \n",
       "std    8.365655e-02  1.235728e-02     0.053721  \n",
       "min    3.242665e-09  2.070149e-09     0.000003  \n",
       "25%    9.136331e-05  3.378250e-06     0.006057  \n",
       "50%    1.365362e-03  3.006935e-05     0.024899  \n",
       "75%    1.650730e-02  3.486461e-04     0.072655  \n",
       "max    4.429165e-01  2.185830e-01     0.244990  "
      ]
     },
     "execution_count": 38,
     "metadata": {},
     "output_type": "execute_result"
    }
   ],
   "source": [
    "short_furrier_features.describe()"
   ]
  },
  {
   "cell_type": "markdown",
   "metadata": {},
   "source": [
    "##### Features da Transformação de Fourier"
   ]
  },
  {
   "cell_type": "code",
   "execution_count": 39,
   "metadata": {},
   "outputs": [
    {
     "data": {
      "text/html": [
       "<div>\n",
       "<style scoped>\n",
       "    .dataframe tbody tr th:only-of-type {\n",
       "        vertical-align: middle;\n",
       "    }\n",
       "\n",
       "    .dataframe tbody tr th {\n",
       "        vertical-align: top;\n",
       "    }\n",
       "\n",
       "    .dataframe thead th {\n",
       "        text-align: right;\n",
       "    }\n",
       "</style>\n",
       "<table border=\"1\" class=\"dataframe\">\n",
       "  <thead>\n",
       "    <tr style=\"text-align: right;\">\n",
       "      <th></th>\n",
       "      <th>F_1Q</th>\n",
       "      <th>F_2Q</th>\n",
       "      <th>F_IQR</th>\n",
       "      <th>F_max</th>\n",
       "      <th>F_mean</th>\n",
       "      <th>F_median</th>\n",
       "      <th>F_min</th>\n",
       "      <th>F_std</th>\n",
       "    </tr>\n",
       "  </thead>\n",
       "  <tbody>\n",
       "    <tr>\n",
       "      <th>count</th>\n",
       "      <td>2774.000000</td>\n",
       "      <td>2774.000000</td>\n",
       "      <td>2774.000000</td>\n",
       "      <td>2774.000000</td>\n",
       "      <td>2774.000000</td>\n",
       "      <td>2774.000000</td>\n",
       "      <td>2774.000000</td>\n",
       "      <td>2774.000000</td>\n",
       "    </tr>\n",
       "    <tr>\n",
       "      <th>mean</th>\n",
       "      <td>6.450801</td>\n",
       "      <td>25.499821</td>\n",
       "      <td>19.049020</td>\n",
       "      <td>2764.928951</td>\n",
       "      <td>24.977622</td>\n",
       "      <td>12.732376</td>\n",
       "      <td>0.037166</td>\n",
       "      <td>60.316987</td>\n",
       "    </tr>\n",
       "    <tr>\n",
       "      <th>std</th>\n",
       "      <td>19.056088</td>\n",
       "      <td>64.913186</td>\n",
       "      <td>48.271359</td>\n",
       "      <td>7172.245206</td>\n",
       "      <td>51.360194</td>\n",
       "      <td>36.134103</td>\n",
       "      <td>0.142850</td>\n",
       "      <td>93.140212</td>\n",
       "    </tr>\n",
       "    <tr>\n",
       "      <th>min</th>\n",
       "      <td>0.004089</td>\n",
       "      <td>0.009744</td>\n",
       "      <td>0.005655</td>\n",
       "      <td>3.253576</td>\n",
       "      <td>0.011008</td>\n",
       "      <td>0.006538</td>\n",
       "      <td>0.000005</td>\n",
       "      <td>0.056864</td>\n",
       "    </tr>\n",
       "    <tr>\n",
       "      <th>25%</th>\n",
       "      <td>0.125576</td>\n",
       "      <td>1.325937</td>\n",
       "      <td>1.101026</td>\n",
       "      <td>213.977188</td>\n",
       "      <td>2.971119</td>\n",
       "      <td>0.399696</td>\n",
       "      <td>0.000579</td>\n",
       "      <td>10.151932</td>\n",
       "    </tr>\n",
       "    <tr>\n",
       "      <th>50%</th>\n",
       "      <td>0.821603</td>\n",
       "      <td>5.652430</td>\n",
       "      <td>4.571165</td>\n",
       "      <td>736.539020</td>\n",
       "      <td>7.967526</td>\n",
       "      <td>2.106444</td>\n",
       "      <td>0.003424</td>\n",
       "      <td>26.232633</td>\n",
       "    </tr>\n",
       "    <tr>\n",
       "      <th>75%</th>\n",
       "      <td>4.366011</td>\n",
       "      <td>20.865706</td>\n",
       "      <td>15.765206</td>\n",
       "      <td>2582.751650</td>\n",
       "      <td>23.928196</td>\n",
       "      <td>9.358247</td>\n",
       "      <td>0.019638</td>\n",
       "      <td>68.458194</td>\n",
       "    </tr>\n",
       "    <tr>\n",
       "      <th>max</th>\n",
       "      <td>360.737411</td>\n",
       "      <td>1116.513367</td>\n",
       "      <td>1113.442722</td>\n",
       "      <td>195929.000000</td>\n",
       "      <td>814.454500</td>\n",
       "      <td>613.572000</td>\n",
       "      <td>3.226510</td>\n",
       "      <td>1180.256700</td>\n",
       "    </tr>\n",
       "  </tbody>\n",
       "</table>\n",
       "</div>"
      ],
      "text/plain": [
       "              F_1Q         F_2Q        F_IQR          F_max       F_mean  \\\n",
       "count  2774.000000  2774.000000  2774.000000    2774.000000  2774.000000   \n",
       "mean      6.450801    25.499821    19.049020    2764.928951    24.977622   \n",
       "std      19.056088    64.913186    48.271359    7172.245206    51.360194   \n",
       "min       0.004089     0.009744     0.005655       3.253576     0.011008   \n",
       "25%       0.125576     1.325937     1.101026     213.977188     2.971119   \n",
       "50%       0.821603     5.652430     4.571165     736.539020     7.967526   \n",
       "75%       4.366011    20.865706    15.765206    2582.751650    23.928196   \n",
       "max     360.737411  1116.513367  1113.442722  195929.000000   814.454500   \n",
       "\n",
       "          F_median        F_min        F_std  \n",
       "count  2774.000000  2774.000000  2774.000000  \n",
       "mean     12.732376     0.037166    60.316987  \n",
       "std      36.134103     0.142850    93.140212  \n",
       "min       0.006538     0.000005     0.056864  \n",
       "25%       0.399696     0.000579    10.151932  \n",
       "50%       2.106444     0.003424    26.232633  \n",
       "75%       9.358247     0.019638    68.458194  \n",
       "max     613.572000     3.226510  1180.256700  "
      ]
     },
     "execution_count": 39,
     "metadata": {},
     "output_type": "execute_result"
    }
   ],
   "source": [
    "furrier_features.describe()"
   ]
  },
  {
   "cell_type": "markdown",
   "metadata": {},
   "source": [
    "##### Features da SC"
   ]
  },
  {
   "cell_type": "code",
   "execution_count": 40,
   "metadata": {},
   "outputs": [
    {
     "data": {
      "text/html": [
       "<div>\n",
       "<style scoped>\n",
       "    .dataframe tbody tr th:only-of-type {\n",
       "        vertical-align: middle;\n",
       "    }\n",
       "\n",
       "    .dataframe tbody tr th {\n",
       "        vertical-align: top;\n",
       "    }\n",
       "\n",
       "    .dataframe thead th {\n",
       "        text-align: right;\n",
       "    }\n",
       "</style>\n",
       "<table border=\"1\" class=\"dataframe\">\n",
       "  <thead>\n",
       "    <tr style=\"text-align: right;\">\n",
       "      <th></th>\n",
       "      <th>SC_1Q</th>\n",
       "      <th>SC_2Q</th>\n",
       "      <th>SC_IQR</th>\n",
       "      <th>SC_max</th>\n",
       "      <th>SC_mean</th>\n",
       "      <th>SC_median</th>\n",
       "      <th>SC_min</th>\n",
       "      <th>SC_std</th>\n",
       "    </tr>\n",
       "  </thead>\n",
       "  <tbody>\n",
       "    <tr>\n",
       "      <th>count</th>\n",
       "      <td>2774.000000</td>\n",
       "      <td>2774.000000</td>\n",
       "      <td>2774.000000</td>\n",
       "      <td>2774.000000</td>\n",
       "      <td>2774.000000</td>\n",
       "      <td>2774.000000</td>\n",
       "      <td>2774.000000</td>\n",
       "      <td>2774.000000</td>\n",
       "    </tr>\n",
       "    <tr>\n",
       "      <th>mean</th>\n",
       "      <td>3005.465545</td>\n",
       "      <td>4992.245558</td>\n",
       "      <td>1986.780013</td>\n",
       "      <td>8756.947746</td>\n",
       "      <td>4108.785902</td>\n",
       "      <td>3854.970250</td>\n",
       "      <td>1834.633473</td>\n",
       "      <td>1556.417318</td>\n",
       "    </tr>\n",
       "    <tr>\n",
       "      <th>std</th>\n",
       "      <td>2372.093447</td>\n",
       "      <td>3170.335634</td>\n",
       "      <td>2066.337882</td>\n",
       "      <td>2969.762396</td>\n",
       "      <td>2483.382056</td>\n",
       "      <td>2795.738610</td>\n",
       "      <td>1783.495203</td>\n",
       "      <td>1006.725465</td>\n",
       "    </tr>\n",
       "    <tr>\n",
       "      <th>min</th>\n",
       "      <td>62.269864</td>\n",
       "      <td>76.870900</td>\n",
       "      <td>0.322563</td>\n",
       "      <td>683.601855</td>\n",
       "      <td>152.505111</td>\n",
       "      <td>65.678269</td>\n",
       "      <td>24.563503</td>\n",
       "      <td>20.553111</td>\n",
       "    </tr>\n",
       "    <tr>\n",
       "      <th>25%</th>\n",
       "      <td>1338.107583</td>\n",
       "      <td>2359.215391</td>\n",
       "      <td>559.890198</td>\n",
       "      <td>6591.511353</td>\n",
       "      <td>2191.087213</td>\n",
       "      <td>1703.931276</td>\n",
       "      <td>739.166364</td>\n",
       "      <td>790.535486</td>\n",
       "    </tr>\n",
       "    <tr>\n",
       "      <th>50%</th>\n",
       "      <td>2250.158780</td>\n",
       "      <td>4134.770539</td>\n",
       "      <td>1286.252436</td>\n",
       "      <td>9634.735188</td>\n",
       "      <td>3489.675364</td>\n",
       "      <td>3004.919771</td>\n",
       "      <td>1292.959800</td>\n",
       "      <td>1320.085254</td>\n",
       "    </tr>\n",
       "    <tr>\n",
       "      <th>75%</th>\n",
       "      <td>3917.527077</td>\n",
       "      <td>7314.328609</td>\n",
       "      <td>2613.334236</td>\n",
       "      <td>10929.770137</td>\n",
       "      <td>5525.019395</td>\n",
       "      <td>5342.083903</td>\n",
       "      <td>2196.473953</td>\n",
       "      <td>2139.830915</td>\n",
       "    </tr>\n",
       "    <tr>\n",
       "      <th>max</th>\n",
       "      <td>12492.723939</td>\n",
       "      <td>14326.531494</td>\n",
       "      <td>13805.516295</td>\n",
       "      <td>19233.674336</td>\n",
       "      <td>12753.692247</td>\n",
       "      <td>12999.260898</td>\n",
       "      <td>10732.331593</td>\n",
       "      <td>6326.939343</td>\n",
       "    </tr>\n",
       "  </tbody>\n",
       "</table>\n",
       "</div>"
      ],
      "text/plain": [
       "              SC_1Q         SC_2Q        SC_IQR        SC_max       SC_mean  \\\n",
       "count   2774.000000   2774.000000   2774.000000   2774.000000   2774.000000   \n",
       "mean    3005.465545   4992.245558   1986.780013   8756.947746   4108.785902   \n",
       "std     2372.093447   3170.335634   2066.337882   2969.762396   2483.382056   \n",
       "min       62.269864     76.870900      0.322563    683.601855    152.505111   \n",
       "25%     1338.107583   2359.215391    559.890198   6591.511353   2191.087213   \n",
       "50%     2250.158780   4134.770539   1286.252436   9634.735188   3489.675364   \n",
       "75%     3917.527077   7314.328609   2613.334236  10929.770137   5525.019395   \n",
       "max    12492.723939  14326.531494  13805.516295  19233.674336  12753.692247   \n",
       "\n",
       "          SC_median        SC_min       SC_std  \n",
       "count   2774.000000   2774.000000  2774.000000  \n",
       "mean    3854.970250   1834.633473  1556.417318  \n",
       "std     2795.738610   1783.495203  1006.725465  \n",
       "min       65.678269     24.563503    20.553111  \n",
       "25%     1703.931276    739.166364   790.535486  \n",
       "50%     3004.919771   1292.959800  1320.085254  \n",
       "75%     5342.083903   2196.473953  2139.830915  \n",
       "max    12999.260898  10732.331593  6326.939343  "
      ]
     },
     "execution_count": 40,
     "metadata": {},
     "output_type": "execute_result"
    }
   ],
   "source": [
    "sc_features.describe()"
   ]
  },
  {
   "cell_type": "markdown",
   "metadata": {},
   "source": [
    "##### Features da SContr"
   ]
  },
  {
   "cell_type": "code",
   "execution_count": 41,
   "metadata": {},
   "outputs": [
    {
     "data": {
      "text/html": [
       "<div>\n",
       "<style scoped>\n",
       "    .dataframe tbody tr th:only-of-type {\n",
       "        vertical-align: middle;\n",
       "    }\n",
       "\n",
       "    .dataframe tbody tr th {\n",
       "        vertical-align: top;\n",
       "    }\n",
       "\n",
       "    .dataframe thead th {\n",
       "        text-align: right;\n",
       "    }\n",
       "</style>\n",
       "<table border=\"1\" class=\"dataframe\">\n",
       "  <thead>\n",
       "    <tr style=\"text-align: right;\">\n",
       "      <th></th>\n",
       "      <th>SContr_1Q</th>\n",
       "      <th>SContr_2Q</th>\n",
       "      <th>SContr_IQR</th>\n",
       "      <th>SContr_max</th>\n",
       "      <th>SContr_mean</th>\n",
       "      <th>SContr_median</th>\n",
       "      <th>SContr_min</th>\n",
       "      <th>SContr_std</th>\n",
       "    </tr>\n",
       "  </thead>\n",
       "  <tbody>\n",
       "    <tr>\n",
       "      <th>count</th>\n",
       "      <td>2774.000000</td>\n",
       "      <td>2774.000000</td>\n",
       "      <td>2774.000000</td>\n",
       "      <td>2774.000000</td>\n",
       "      <td>2774.000000</td>\n",
       "      <td>2774.000000</td>\n",
       "      <td>2774.000000</td>\n",
       "      <td>2774.000000</td>\n",
       "    </tr>\n",
       "    <tr>\n",
       "      <th>mean</th>\n",
       "      <td>12.256690</td>\n",
       "      <td>20.591157</td>\n",
       "      <td>8.334467</td>\n",
       "      <td>41.618051</td>\n",
       "      <td>16.852889</td>\n",
       "      <td>16.200758</td>\n",
       "      <td>2.455836</td>\n",
       "      <td>6.529174</td>\n",
       "    </tr>\n",
       "    <tr>\n",
       "      <th>std</th>\n",
       "      <td>2.617792</td>\n",
       "      <td>5.373726</td>\n",
       "      <td>3.857872</td>\n",
       "      <td>7.814738</td>\n",
       "      <td>3.573181</td>\n",
       "      <td>4.023351</td>\n",
       "      <td>1.129314</td>\n",
       "      <td>2.044740</td>\n",
       "    </tr>\n",
       "    <tr>\n",
       "      <th>min</th>\n",
       "      <td>2.112598</td>\n",
       "      <td>13.633414</td>\n",
       "      <td>2.886049</td>\n",
       "      <td>23.645745</td>\n",
       "      <td>11.542362</td>\n",
       "      <td>7.368868</td>\n",
       "      <td>0.043776</td>\n",
       "      <td>3.142344</td>\n",
       "    </tr>\n",
       "    <tr>\n",
       "      <th>25%</th>\n",
       "      <td>10.431000</td>\n",
       "      <td>16.425292</td>\n",
       "      <td>5.752351</td>\n",
       "      <td>35.476651</td>\n",
       "      <td>14.116775</td>\n",
       "      <td>13.415033</td>\n",
       "      <td>1.721968</td>\n",
       "      <td>4.959946</td>\n",
       "    </tr>\n",
       "    <tr>\n",
       "      <th>50%</th>\n",
       "      <td>11.457435</td>\n",
       "      <td>18.671038</td>\n",
       "      <td>7.004061</td>\n",
       "      <td>41.508618</td>\n",
       "      <td>15.666576</td>\n",
       "      <td>14.411687</td>\n",
       "      <td>2.360097</td>\n",
       "      <td>6.011654</td>\n",
       "    </tr>\n",
       "    <tr>\n",
       "      <th>75%</th>\n",
       "      <td>13.292176</td>\n",
       "      <td>23.594802</td>\n",
       "      <td>9.714950</td>\n",
       "      <td>47.037271</td>\n",
       "      <td>18.797064</td>\n",
       "      <td>17.831150</td>\n",
       "      <td>3.074486</td>\n",
       "      <td>7.797841</td>\n",
       "    </tr>\n",
       "    <tr>\n",
       "      <th>max</th>\n",
       "      <td>25.846894</td>\n",
       "      <td>53.644785</td>\n",
       "      <td>41.752944</td>\n",
       "      <td>70.498373</td>\n",
       "      <td>31.852773</td>\n",
       "      <td>35.124084</td>\n",
       "      <td>8.575364</td>\n",
       "      <td>20.521009</td>\n",
       "    </tr>\n",
       "  </tbody>\n",
       "</table>\n",
       "</div>"
      ],
      "text/plain": [
       "         SContr_1Q    SContr_2Q   SContr_IQR   SContr_max  SContr_mean  \\\n",
       "count  2774.000000  2774.000000  2774.000000  2774.000000  2774.000000   \n",
       "mean     12.256690    20.591157     8.334467    41.618051    16.852889   \n",
       "std       2.617792     5.373726     3.857872     7.814738     3.573181   \n",
       "min       2.112598    13.633414     2.886049    23.645745    11.542362   \n",
       "25%      10.431000    16.425292     5.752351    35.476651    14.116775   \n",
       "50%      11.457435    18.671038     7.004061    41.508618    15.666576   \n",
       "75%      13.292176    23.594802     9.714950    47.037271    18.797064   \n",
       "max      25.846894    53.644785    41.752944    70.498373    31.852773   \n",
       "\n",
       "       SContr_median   SContr_min   SContr_std  \n",
       "count    2774.000000  2774.000000  2774.000000  \n",
       "mean       16.200758     2.455836     6.529174  \n",
       "std         4.023351     1.129314     2.044740  \n",
       "min         7.368868     0.043776     3.142344  \n",
       "25%        13.415033     1.721968     4.959946  \n",
       "50%        14.411687     2.360097     6.011654  \n",
       "75%        17.831150     3.074486     7.797841  \n",
       "max        35.124084     8.575364    20.521009  "
      ]
     },
     "execution_count": 41,
     "metadata": {},
     "output_type": "execute_result"
    }
   ],
   "source": [
    "scontr_features.describe()"
   ]
  },
  {
   "cell_type": "markdown",
   "metadata": {},
   "source": [
    "##### Correlação entre os grupos de features"
   ]
  },
  {
   "cell_type": "markdown",
   "metadata": {},
   "source": [
    "<p style='font-size:12px; font-weight:bold'>Transformada de Fourier vs SC</p>"
   ]
  },
  {
   "cell_type": "code",
   "execution_count": 43,
   "metadata": {},
   "outputs": [
    {
     "data": {
      "image/png": "[encoded data removed]",
      "text/plain": [
       "<Figure size 576x432 with 2 Axes>"
      ]
     },
     "metadata": {
      "needs_background": "light"
     },
     "output_type": "display_data"
    }
   ],
   "source": [
    "fsc = pd.concat([furrier_features, sc_features], axis=1)\n",
    "plt.figure(figsize=(8, 6))\n",
    "sns.heatmap(fsc.corr())\n",
    "plt.show()"
   ]
  },
  {
   "cell_type": "markdown",
   "metadata": {},
   "source": [
    "<p style='font-size:12px; font-weight:bold'>Transformada de Fourier vs SContr</p>"
   ]
  },
  {
   "cell_type": "code",
   "execution_count": 45,
   "metadata": {},
   "outputs": [
    {
     "data": {
      "image/png": "[encoded data removed]",
      "text/plain": [
       "<Figure size 576x432 with 2 Axes>"
      ]
     },
     "metadata": {
      "needs_background": "light"
     },
     "output_type": "display_data"
    }
   ],
   "source": [
    "fscon = pd.concat([harmonic_features, scontr_features], axis=1)\n",
    "plt.figure(figsize=(8, 6))\n",
    "sns.heatmap(fscon.corr())\n",
    "plt.show()"
   ]
  },
  {
   "cell_type": "markdown",
   "metadata": {},
   "source": [
    "<p style='font-size:12px; font-weight:bold'>Transformada de Fourier Da Percussão vs SC</p>"
   ]
  },
  {
   "cell_type": "code",
   "execution_count": 46,
   "metadata": {},
   "outputs": [
    {
     "data": {
      "image/png": "[encoded data removed]",
      "text/plain": [
       "<Figure size 576x432 with 2 Axes>"
      ]
     },
     "metadata": {
      "needs_background": "light"
     },
     "output_type": "display_data"
    }
   ],
   "source": [
    "psc = pd.concat([percussion_features, sc_features], axis=1)\n",
    "plt.figure(figsize=(8, 6))\n",
    "sns.heatmap(psc.corr())\n",
    "plt.show()"
   ]
  },
  {
   "cell_type": "markdown",
   "metadata": {},
   "source": [
    "<p style='font-size:12px; font-weight:bold'>Transformada de Fourier Da Percussão vs SContr</p>"
   ]
  },
  {
   "cell_type": "code",
   "execution_count": 47,
   "metadata": {},
   "outputs": [
    {
     "data": {
      "image/png": "[encoded data removed]",
      "text/plain": [
       "<Figure size 576x432 with 2 Axes>"
      ]
     },
     "metadata": {
      "needs_background": "light"
     },
     "output_type": "display_data"
    }
   ],
   "source": [
    "pscon = pd.concat([percussion_features, scontr_features], axis=1)\n",
    "plt.figure(figsize=(8, 6))\n",
    "sns.heatmap(pscon.corr())\n",
    "plt.show()"
   ]
  },
  {
   "cell_type": "markdown",
   "metadata": {},
   "source": [
    "<p style='font-size:12px; font-weight:bold'>Transformada de Fourier Da Harmonica vs SC</p>"
   ]
  },
  {
   "cell_type": "code",
   "execution_count": 48,
   "metadata": {},
   "outputs": [
    {
     "data": {
      "image/png": "[encoded data removed]",
      "text/plain": [
       "<Figure size 576x432 with 2 Axes>"
      ]
     },
     "metadata": {
      "needs_background": "light"
     },
     "output_type": "display_data"
    }
   ],
   "source": [
    "hsc = pd.concat([harmonic_features, sc_features], axis=1)\n",
    "plt.figure(figsize=(8, 6))\n",
    "sns.heatmap(hsc.corr())\n",
    "plt.show()"
   ]
  },
  {
   "cell_type": "markdown",
   "metadata": {},
   "source": [
    "<p style='font-size:12px; font-weight:bold'>Transformada de Fourier Da Harmonica vs SContr</p>"
   ]
  },
  {
   "cell_type": "code",
   "execution_count": 49,
   "metadata": {},
   "outputs": [
    {
     "data": {
      "image/png": "[encoded data removed]",
      "text/plain": [
       "<Figure size 576x432 with 2 Axes>"
      ]
     },
     "metadata": {
      "needs_background": "light"
     },
     "output_type": "display_data"
    }
   ],
   "source": [
    "hscon = pd.concat([harmonic_features, scontr_features], axis=1)\n",
    "plt.figure(figsize=(8, 6))\n",
    "sns.heatmap(hscon.corr())\n",
    "plt.show()"
   ]
  },
  {
   "cell_type": "markdown",
   "metadata": {},
   "source": [
    "<p style='font-size:12px; font-weight:bold'>Scontr vs SC</p>"
   ]
  },
  {
   "cell_type": "code",
   "execution_count": 50,
   "metadata": {},
   "outputs": [
    {
     "data": {
      "image/png": "[encoded data removed]",
      "text/plain": [
       "<Figure size 576x432 with 2 Axes>"
      ]
     },
     "metadata": {
      "needs_background": "light"
     },
     "output_type": "display_data"
    }
   ],
   "source": [
    "sconsc = pd.concat([scontr_features, sc_features], axis=1)\n",
    "plt.figure(figsize=(8, 6))\n",
    "sns.heatmap(sconsc.corr())\n",
    "plt.show()"
   ]
  },
  {
   "cell_type": "markdown",
   "metadata": {},
   "source": [
    "### Modelo Iniciais"
   ]
  },
  {
   "cell_type": "code",
   "execution_count": 51,
   "metadata": {},
   "outputs": [],
   "source": [
    "columns_on_df = list(test.columns)\n",
    "x_columns = columns_on_df\n",
    "x_columns.remove('fpath')\n",
    "x_columns.remove('label')"
   ]
  },
  {
   "cell_type": "code",
   "execution_count": 52,
   "metadata": {},
   "outputs": [],
   "source": [
    "# Getting Train and Test data\n",
    "x_train = train[x_columns]\n",
    "y_train = train['label']\n",
    "x_test = test[x_columns]\n",
    "y_test = test['label']"
   ]
  },
  {
   "cell_type": "code",
   "execution_count": 53,
   "metadata": {},
   "outputs": [],
   "source": [
    "# Feature Scalling the data\n",
    "from sklearn.preprocessing import StandardScaler\n",
    "sc = StandardScaler()\n",
    "x_train = sc.fit_transform(x_train)\n",
    "x_test = sc.transform(x_test)"
   ]
  },
  {
   "cell_type": "code",
   "execution_count": 64,
   "metadata": {},
   "outputs": [],
   "source": [
    "from sklearn.model_selection import cross_val_score\n",
    "range_list = list(range(1,50))\n",
    "\n",
    "\n",
    "def odd(list_n):\n",
    "    list_odd = []\n",
    "    for number in list_n:\n",
    "        x = number % 2\n",
    "        if x > 0:\n",
    "            list_odd.append(x)\n",
    "        return list_odd\n",
    "        \n",
    "\n",
    "neighbors = odd(range_list)\n",
    "\n",
    "#neighbors = filter(lambda x: x % 2 != 0, range_list)\n",
    "\n",
    "\n",
    "\n",
    "cv_scores = []\n",
    "\n",
    "for k in neighbors:\n",
    "    knn = KNeighborsClassifier(n_neighbors=k)\n",
    "    scores = cross_val_score(knn, x_train, y_train, cv=10, scoring='accuracy')\n",
    "    cv_scores.append(scores.mean())\n",
    "\n",
    "    \n",
    "MSE = [1 - x for x in cv_scores]\n",
    "\n",
    "optimal_k = neighbors[MSE.index(min(MSE))]"
   ]
  },
  {
   "cell_type": "code",
   "execution_count": 65,
   "metadata": {},
   "outputs": [],
   "source": [
    "# Creating our Models\n",
    "knn_model = KNeighborsClassifier(n_neighbors=optimal_k, weights='distance')\n",
    "#rf_model = RandomForestClassifier(n_estimators=100, random_state=RANDOM_SEED)\n",
    "#gb_model = GradientBoostingClassifier(random_state=RANDOM_SEED)"
   ]
  },
  {
   "cell_type": "code",
   "execution_count": 66,
   "metadata": {},
   "outputs": [
    {
     "data": {
      "text/plain": [
       "KNeighborsClassifier(algorithm='auto', leaf_size=30, metric='minkowski',\n",
       "           metric_params=None, n_jobs=None, n_neighbors=1, p=2,\n",
       "           weights='distance')"
      ]
     },
     "execution_count": 66,
     "metadata": {},
     "output_type": "execute_result"
    }
   ],
   "source": [
    "# Fitting the Models\n",
    "knn_model.fit(x_train, y_train)\n",
    "#rf_model.fit(x_train, y_train)\n",
    "#gb_model.fit(x_train, y_train)"
   ]
  },
  {
   "cell_type": "code",
   "execution_count": 67,
   "metadata": {},
   "outputs": [],
   "source": [
    "# Predicting the Categories\n",
    "y_knn = knn_model.predict(x_test)\n",
    "#y_rf = rf_model.predict(x_test)\n",
    "#y_gb = gb_model.predict(x_test)"
   ]
  },
  {
   "cell_type": "code",
   "execution_count": 68,
   "metadata": {},
   "outputs": [],
   "source": [
    "# Getting Accuracy\n",
    "knn_acc = acc(y_test, y_knn)\n",
    "#rf_acc = acc(y_test, y_rf)\n",
    "#gb_acc = acc(y_test, y_gb)"
   ]
  },
  {
   "cell_type": "code",
   "execution_count": 69,
   "metadata": {},
   "outputs": [
    {
     "data": {
      "text/plain": [
       "0.366875"
      ]
     },
     "execution_count": 69,
     "metadata": {},
     "output_type": "execute_result"
    }
   ],
   "source": [
    "knn_acc#, rf_acc, gb_acc"
   ]
  },
  {
   "cell_type": "markdown",
   "metadata": {},
   "source": [
    "#### Improving the Model"
   ]
  },
  {
   "cell_type": "markdown",
   "metadata": {},
   "source": [
    "##### Feature Selection"
   ]
  }
 ],
 "metadata": {
  "kernelspec": {
   "display_name": "Python 3",
   "language": "python",
   "name": "python3"
  },
  "language_info": {
   "codemirror_mode": {
    "name": "ipython",
    "version": 3
   },
   "file_extension": ".py",
   "mimetype": "text/x-python",
   "name": "python",
   "nbconvert_exporter": "python",
   "pygments_lexer": "ipython3",
   "version": "3.7.0"
  }
 },
 "nbformat": 4,
 "nbformat_minor": 2
}
